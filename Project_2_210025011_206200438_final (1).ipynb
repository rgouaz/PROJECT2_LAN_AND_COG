{
  "cells": [
    {
      "cell_type": "code",
      "execution_count": 1,
      "metadata": {
        "id": "91XxQl4N64nH",
        "colab": {
          "base_uri": "https://localhost:8080/"
        },
        "outputId": "2a854ad6-a039-4433-96cd-6964e388a4e8"
      },
      "outputs": [
        {
          "output_type": "stream",
          "name": "stdout",
          "text": [
            "Mounted at /content/gdrive\n"
          ]
        }
      ],
      "source": [
        "from google.colab import drive\n",
        "drive.mount('/content/gdrive')\n",
        "GDRIVE_DIR = \"/content/gdrive/My Drive/Structured Task (sentence decoding)\""
      ]
    },
    {
      "cell_type": "code",
      "execution_count": 2,
      "metadata": {
        "id": "Kf8ENR3a8gug",
        "colab": {
          "base_uri": "https://localhost:8080/"
        },
        "outputId": "eef6e013-0f6a-4aaf-af30-e458f5e2ec10"
      },
      "outputs": [
        {
          "output_type": "stream",
          "name": "stdout",
          "text": [
            "--2023-07-18 16:16:02--  http://n--load-cookies/\n",
            "Resolving n--load-cookies (n--load-cookies)... failed: Name or service not known.\n",
            "wget: unable to resolve host address ‘n--load-cookies’\n",
            "/tmp/cookies.txt: Scheme missing.\n",
            "--2023-07-18 16:16:03--  https://docs.google.com/uc?export=download&confirm=t&id=1xZaorRH-xxjfochvSesAhOTUg82_Xq56\n",
            "Resolving docs.google.com (docs.google.com)... 74.125.132.102, 74.125.132.100, 74.125.132.138, ...\n",
            "Connecting to docs.google.com (docs.google.com)|74.125.132.102|:443... connected.\n",
            "HTTP request sent, awaiting response... 303 See Other\n",
            "Location: https://doc-0g-54-docs.googleusercontent.com/docs/securesc/ha0ro937gcuc7l7deffksulhg5h7mbp1/4qd2nd1rstmruts9irqfsrhs7h80cbr7/1689696900000/01333689271208460322/*/1xZaorRH-xxjfochvSesAhOTUg82_Xq56?e=download&uuid=a56577d7-8763-4d20-b530-4313386bbc97 [following]\n",
            "Warning: wildcards not supported in HTTP.\n",
            "--2023-07-18 16:16:03--  https://doc-0g-54-docs.googleusercontent.com/docs/securesc/ha0ro937gcuc7l7deffksulhg5h7mbp1/4qd2nd1rstmruts9irqfsrhs7h80cbr7/1689696900000/01333689271208460322/*/1xZaorRH-xxjfochvSesAhOTUg82_Xq56?e=download&uuid=a56577d7-8763-4d20-b530-4313386bbc97\n",
            "Resolving doc-0g-54-docs.googleusercontent.com (doc-0g-54-docs.googleusercontent.com)... 173.194.198.132, 2607:f8b0:4001:c1c::84\n",
            "Connecting to doc-0g-54-docs.googleusercontent.com (doc-0g-54-docs.googleusercontent.com)|173.194.198.132|:443... connected.\n",
            "HTTP request sent, awaiting response... 200 OK\n",
            "Length: 97708666 (93M) [application/x-zip-compressed]\n",
            "Saving to: ‘files.zip’\n",
            "\n",
            "files.zip           100%[===================>]  93.18M  80.3MB/s    in 1.2s    \n",
            "\n",
            "2023-07-18 16:16:04 (80.3 MB/s) - ‘files.zip’ saved [97708666/97708666]\n",
            "\n",
            "FINISHED --2023-07-18 16:16:04--\n",
            "Total wall clock time: 1.7s\n",
            "Downloaded: 1 files, 93M in 1.2s (80.3 MB/s)\n",
            "Archive:  files.zip\n",
            "  inflating: stimuli_180concepts.txt  \n",
            "  inflating: learn_decoder.py        \n",
            "  inflating: vectors_180concepts.GV42B300.txt  \n",
            "  inflating: imaging_data.csv        \n"
          ]
        }
      ],
      "source": [
        "!wget n--load-cookies /tmp/cookies.txt \"https://docs.google.com/uc?export=download&confirm=$(wget --quiet --save-cookies /tmp/cookies.txt --keep-session-cookies --no-check-certificate 'https://docs.google.com/uc?export=download&id=1xZaorRH-xxjfochvSesAhOTUg82_Xq56' -O- | sed -rn 's/.*confirm=([0-9A-Za-z_]+).*/\\1\\n/p')&id=1xZaorRH-xxjfochvSesAhOTUg82_Xq56\" -O files.zip && rm -rf /tmp/cookies.txt\n",
        "!unzip files.zip\n",
        "!rm files.zip"
      ]
    },
    {
      "cell_type": "code",
      "execution_count": 3,
      "metadata": {
        "id": "mMJWn0NW8l-t"
      },
      "outputs": [],
      "source": [
        "from learn_decoder import *\n",
        "import pandas as pd\n",
        "import os\n",
        "import numpy as np\n",
        "data = read_matrix(\"imaging_data.csv\", sep=\",\")"
      ]
    },
    {
      "cell_type": "code",
      "execution_count": 4,
      "metadata": {
        "id": "p0cCaKVGVrHv",
        "colab": {
          "base_uri": "https://localhost:8080/"
        },
        "outputId": "34a040f8-89c6-4e17-c1b8-804a4404cc5f"
      },
      "outputs": [
        {
          "output_type": "execute_result",
          "data": {
            "text/plain": [
              "(180, 170712)"
            ]
          },
          "metadata": {},
          "execution_count": 4
        }
      ],
      "source": [
        "data.shape"
      ]
    },
    {
      "cell_type": "code",
      "execution_count": 5,
      "metadata": {
        "id": "3kVLM7Ci-lyY"
      },
      "outputs": [],
      "source": [
        "concepts = np.genfromtxt('stimuli_180concepts.txt', dtype=np.dtype('U'))"
      ]
    },
    {
      "cell_type": "markdown",
      "metadata": {
        "id": "zrZS7RoRZksO"
      },
      "source": [
        "### Load Word2Vec vectors to train the decoder and compare the results to HW3\n"
      ]
    },
    {
      "cell_type": "code",
      "execution_count": 6,
      "metadata": {
        "id": "9w0C8v9s-tQA",
        "colab": {
          "base_uri": "https://localhost:8080/"
        },
        "outputId": "0cbba9b7-4d70-459d-e098-98ae711c0754"
      },
      "outputs": [
        {
          "output_type": "stream",
          "name": "stdout",
          "text": [
            "[==================================================] 100.0% 1662.8/1662.8MB downloaded\n"
          ]
        }
      ],
      "source": [
        "import gensim.downloader as api\n",
        "wv = api.load('word2vec-google-news-300')"
      ]
    },
    {
      "cell_type": "markdown",
      "metadata": {
        "id": "sSNjOdidKilR"
      },
      "source": [
        "fixing 'argumentatively' since gensim doesn't know that word."
      ]
    },
    {
      "cell_type": "code",
      "execution_count": 7,
      "metadata": {
        "id": "8ftpzJcZIb4g",
        "colab": {
          "base_uri": "https://localhost:8080/"
        },
        "outputId": "20437f8c-81be-4229-dadd-57901be91aec"
      },
      "outputs": [
        {
          "output_type": "execute_result",
          "data": {
            "text/plain": [
              "(180, 300)"
            ]
          },
          "metadata": {},
          "execution_count": 7
        }
      ],
      "source": [
        "wv_vectors = np.array([wv[c] if c != 'argumentatively' else wv['argumentative'] for c in concepts])\n",
        "wv_vectors.shape"
      ]
    },
    {
      "cell_type": "markdown",
      "metadata": {
        "id": "av3YEDraZtu4"
      },
      "source": [
        "## Load GloVe vectors (from pset3)"
      ]
    },
    {
      "cell_type": "code",
      "execution_count": 8,
      "metadata": {
        "id": "OIxpb8K4UNh5"
      },
      "outputs": [],
      "source": [
        "GLOVE_vectors = read_matrix(\"vectors_180concepts.GV42B300.txt\", sep=\" \")"
      ]
    },
    {
      "cell_type": "markdown",
      "metadata": {
        "id": "YJDY_C1EZxbm"
      },
      "source": []
    },
    {
      "cell_type": "code",
      "execution_count": 9,
      "metadata": {
        "id": "Wm35BCD9UTR2"
      },
      "outputs": [],
      "source": [
        "def cosine_similarity(x: np.ndarray, y: np.ndarray) -> float:\n",
        "    return np.dot(x,y)/(np.sqrt(np.dot(x,x))*np.sqrt(np.dot(y,y)))"
      ]
    },
    {
      "cell_type": "markdown",
      "metadata": {
        "id": "TLBejQTjZz7I"
      },
      "source": [
        "### define functions"
      ]
    },
    {
      "cell_type": "code",
      "execution_count": 10,
      "metadata": {
        "id": "fHElsAUYUYBA"
      },
      "outputs": [],
      "source": [
        "def create_folds(test_fold_size, fold_index, total_entries):\n",
        "    # If it's the first fold\n",
        "    if fold_index == 0:\n",
        "        train_indices = list(range(test_fold_size, total_entries))\n",
        "        test_indices = list(range(test_fold_size))\n",
        "    # If it's the last fold\n",
        "    elif fold_index == 19:\n",
        "        train_indices = list(range(0, test_fold_size * 19))\n",
        "        test_indices = list(range(test_fold_size * 19, total_entries))\n",
        "    # For all other folds in between\n",
        "    else:\n",
        "        train_indices = list(range(0, test_fold_size * fold_index)) + \\\n",
        "                        list(range(test_fold_size * (fold_index + 1), total_entries))\n",
        "        test_indices = list(range(test_fold_size * fold_index, test_fold_size * (fold_index + 1)))\n",
        "\n",
        "    return train_indices, test_indices\n"
      ]
    },
    {
      "cell_type": "markdown",
      "metadata": {
        "id": "Dirl1UvOZ55g"
      },
      "source": [
        "### Train The Decoder On Word2Vec vectors"
      ]
    },
    {
      "cell_type": "code",
      "execution_count": 11,
      "metadata": {
        "id": "3SdzZaFNUZ6n"
      },
      "outputs": [],
      "source": [
        "folds_scores_wv = []\n",
        "accuracy_wv={}\n",
        "n = len(data)\n",
        "test_fold_size= int(n/20)\n",
        "for i in range(20):\n",
        "  rankings = 0\n",
        "  train_idx, test_idx = create_folds(test_fold_size,i,n)\n",
        "  dtrain,dtest = data[train_idx], data[test_idx]\n",
        "  vtrain,vtest = wv_vectors[train_idx], wv_vectors[test_idx]\n",
        "  w2v_decoder = learn_decoder(dtrain,vtrain).T\n",
        "  decoded_vectors_w2v = [np.dot(w2v_decoder,voxel) for voxel in dtest]\n",
        "  for vec,test_id in zip(decoded_vectors_w2v,test_idx):\n",
        "    true_vector,true_concept=wv_vectors[test_id],concepts[test_id]\n",
        "    similarities={c:cosine_similarity(vec,v) for v,c in zip(wv_vectors,concepts)}\n",
        "    similarities=dict(sorted(similarities.items(), key=lambda item: -item[1]))\n",
        "    true_concept_idx=list(similarities.keys()).index(true_concept)+1\n",
        "    accuracy_wv[true_concept]=true_concept_idx\n",
        "    rankings+=true_concept_idx\n",
        "  folds_scores_wv.append(rankings/test_fold_size)"
      ]
    },
    {
      "cell_type": "code",
      "execution_count": 12,
      "metadata": {
        "colab": {
          "base_uri": "https://localhost:8080/"
        },
        "id": "m1UNJ64yUccE",
        "outputId": "7360d218-8088-4951-f71d-2f3000319899"
      },
      "outputs": [
        {
          "output_type": "stream",
          "name": "stdout",
          "text": [
            "Average accuracy:\n",
            "60.53333333333333\n"
          ]
        }
      ],
      "source": [
        "print(\"Average accuracy:\")\n",
        "print(np.mean(list(accuracy_wv.values())))"
      ]
    },
    {
      "cell_type": "markdown",
      "source": [
        "### Train The Decoder On GLOVE Vectors As we did in HW3 assignment 3"
      ],
      "metadata": {
        "id": "Jh12Lv7L7ObL"
      }
    },
    {
      "cell_type": "code",
      "execution_count": 13,
      "metadata": {
        "id": "9x72CRB1Z8TT"
      },
      "outputs": [],
      "source": [
        "folds_scores_glove = []\n",
        "accuracy_gl={}\n",
        "n = len(data)\n",
        "test_fold_size= int(n/20)\n",
        "for i in range(20):\n",
        "  rankings = 0\n",
        "  train_idx, test_idx = create_folds(test_fold_size,i,n)\n",
        "  dtrain,dtest = data[train_idx], data[test_idx]\n",
        "  vtrain,vtest = GLOVE_vectors[train_idx], GLOVE_vectors[test_idx]\n",
        "  decoder_GLOVE = learn_decoder(dtrain,vtrain).T\n",
        "  decoded_vectors_GLOVE = [np.dot(decoder_GLOVE,voxel) for voxel in dtest]\n",
        "  for vec,test_id in zip(decoded_vectors_GLOVE,test_idx):\n",
        "    true_vector,true_concept=GLOVE_vectors[test_id],concepts[test_id]\n",
        "    similarities={c:cosine_similarity(vec,v) for v,c in zip(GLOVE_vectors,concepts)}\n",
        "    similarities=dict(sorted(similarities.items(), key=lambda item: -item[1]))\n",
        "    true_concept_idx=list(similarities.keys()).index(true_concept)+1\n",
        "    accuracy_gl[true_concept]=true_concept_idx\n",
        "    rankings+=true_concept_idx\n",
        "  folds_scores_glove.append(rankings/test_fold_size)"
      ]
    },
    {
      "cell_type": "code",
      "source": [
        "print(\"Average accuracy:\")\n",
        "print(np.mean(list(accuracy_gl.values())))"
      ],
      "metadata": {
        "colab": {
          "base_uri": "https://localhost:8080/"
        },
        "id": "e1OpAMmY7Q-9",
        "outputId": "ab19c736-85cf-4f2a-f37d-7163a104e98e"
      },
      "execution_count": 14,
      "outputs": [
        {
          "output_type": "stream",
          "name": "stdout",
          "text": [
            "Average accuracy:\n",
            "61.96111111111111\n"
          ]
        }
      ]
    },
    {
      "cell_type": "markdown",
      "source": [
        "## Results - Comparison Between the results obtained with W2V Vectors and GLOVE Vectors"
      ],
      "metadata": {
        "id": "gc1AJJ7M8AuF"
      }
    },
    {
      "cell_type": "code",
      "source": [
        "import matplotlib.pyplot as plt\n",
        "\n",
        "plt.plot(range(1,21),folds_scores_wv, color='blue')\n",
        "plt.plot(range(1,21),folds_scores_glove, color='orange')\n",
        "plt.title('Avg accuracy score per fold')\n",
        "plt.xlabel('fold')\n",
        "plt.ylabel('avg accuracy')\n",
        "plt.legend(['W2V','GLOVE'])"
      ],
      "metadata": {
        "colab": {
          "base_uri": "https://localhost:8080/",
          "height": 490
        },
        "id": "NDghpDOR7239",
        "outputId": "751b86a3-90c5-4632-b3c6-883d3c900f76"
      },
      "execution_count": 15,
      "outputs": [
        {
          "output_type": "execute_result",
          "data": {
            "text/plain": [
              "<matplotlib.legend.Legend at 0x78348a7ebe80>"
            ]
          },
          "metadata": {},
          "execution_count": 15
        },
        {
          "output_type": "display_data",
          "data": {
            "text/plain": [
              "<Figure size 640x480 with 1 Axes>"
            ],
            "image/png": "[encoded data removed]"
          },
          "metadata": {}
        }
      ]
    },
    {
      "cell_type": "code",
      "source": [
        "accuracy_gl_sorted = sorted(accuracy_gl.items(), key=lambda item: item[1])\n",
        "print('Best Decoded Concepts Using Glove')\n",
        "for word,score in accuracy_gl_sorted[:20]:\n",
        "  print(f'**{word}**   Glove Accuracy: {score}, W2v Accuracy: {accuracy_wv[word]}')\n",
        "print('\\n worst Decoded Concepts Using Glove')\n",
        "for word,score in accuracy_gl_sorted[-20:]:\n",
        "  print(word)\n",
        "  print(f'**{word}**  Glove Accuracy: {score}, W2v Accuracy: {accuracy_wv[word]}')"
      ],
      "metadata": {
        "colab": {
          "base_uri": "https://localhost:8080/"
        },
        "id": "iWNEXAaD8ECu",
        "outputId": "2bf58230-b6a5-4ee0-bb9e-64f3c0c85eb4"
      },
      "execution_count": 16,
      "outputs": [
        {
          "output_type": "stream",
          "name": "stdout",
          "text": [
            "Best Decoded Concepts Using Glove\n",
            "**do**   Glove Accuracy: 1, W2v Accuracy: 7\n",
            "**food**   Glove Accuracy: 1, W2v Accuracy: 4\n",
            "**time**   Glove Accuracy: 1, W2v Accuracy: 96\n",
            "**great**   Glove Accuracy: 2, W2v Accuracy: 48\n",
            "**laugh**   Glove Accuracy: 4, W2v Accuracy: 1\n",
            "**feeling**   Glove Accuracy: 5, W2v Accuracy: 9\n",
            "**stupid**   Glove Accuracy: 5, W2v Accuracy: 1\n",
            "**hair**   Glove Accuracy: 6, W2v Accuracy: 3\n",
            "**lady**   Glove Accuracy: 6, W2v Accuracy: 14\n",
            "**left**   Glove Accuracy: 6, W2v Accuracy: 73\n",
            "**extremely**   Glove Accuracy: 7, W2v Accuracy: 103\n",
            "**money**   Glove Accuracy: 7, W2v Accuracy: 39\n",
            "**ability**   Glove Accuracy: 8, W2v Accuracy: 71\n",
            "**big**   Glove Accuracy: 8, W2v Accuracy: 16\n",
            "**crazy**   Glove Accuracy: 8, W2v Accuracy: 7\n",
            "**play**   Glove Accuracy: 8, W2v Accuracy: 15\n",
            "**music**   Glove Accuracy: 9, W2v Accuracy: 8\n",
            "**picture**   Glove Accuracy: 9, W2v Accuracy: 61\n",
            "**building**   Glove Accuracy: 10, W2v Accuracy: 17\n",
            "**construction**   Glove Accuracy: 10, W2v Accuracy: 98\n",
            "\n",
            " worst Decoded Concepts Using Glove\n",
            "illness\n",
            "**illness**  Glove Accuracy: 133, W2v Accuracy: 63\n",
            "charity\n",
            "**charity**  Glove Accuracy: 135, W2v Accuracy: 147\n",
            "bed\n",
            "**bed**  Glove Accuracy: 136, W2v Accuracy: 138\n",
            "willingly\n",
            "**willingly**  Glove Accuracy: 139, W2v Accuracy: 28\n",
            "invisible\n",
            "**invisible**  Glove Accuracy: 141, W2v Accuracy: 69\n",
            "ignorance\n",
            "**ignorance**  Glove Accuracy: 142, W2v Accuracy: 80\n",
            "sin\n",
            "**sin**  Glove Accuracy: 146, W2v Accuracy: 45\n",
            "kindness\n",
            "**kindness**  Glove Accuracy: 148, W2v Accuracy: 33\n",
            "mathematical\n",
            "**mathematical**  Glove Accuracy: 151, W2v Accuracy: 36\n",
            "elegance\n",
            "**elegance**  Glove Accuracy: 152, W2v Accuracy: 79\n",
            "vacation\n",
            "**vacation**  Glove Accuracy: 152, W2v Accuracy: 128\n",
            "sew\n",
            "**sew**  Glove Accuracy: 154, W2v Accuracy: 26\n",
            "movie\n",
            "**movie**  Glove Accuracy: 158, W2v Accuracy: 133\n",
            "usable\n",
            "**usable**  Glove Accuracy: 163, W2v Accuracy: 98\n",
            "electron\n",
            "**electron**  Glove Accuracy: 165, W2v Accuracy: 44\n",
            "dissolve\n",
            "**dissolve**  Glove Accuracy: 167, W2v Accuracy: 115\n",
            "deceive\n",
            "**deceive**  Glove Accuracy: 172, W2v Accuracy: 49\n",
            "applause\n",
            "**applause**  Glove Accuracy: 175, W2v Accuracy: 114\n",
            "cockroach\n",
            "**cockroach**  Glove Accuracy: 178, W2v Accuracy: 25\n",
            "argumentatively\n",
            "**argumentatively**  Glove Accuracy: 180, W2v Accuracy: 24\n"
          ]
        }
      ]
    },
    {
      "cell_type": "code",
      "source": [
        "accuracy_wv_sorted = sorted(accuracy_wv.items(), key=lambda item: item[1])\n",
        "print('Best Decoded Concepts Using w2v')\n",
        "for word,score in accuracy_wv_sorted[:20]:\n",
        "  print(f'**{word}**  W2v Accuracy: {score}, Glove Accuracy: {accuracy_gl[word]}')\n",
        "print('\\n worst Decoded Concepts Using w2v')\n",
        "for word,score in accuracy_gl_sorted[-20:]:\n",
        "  print(f'**{word}**  W2v Accuracy: {score}, Glove Accuracy: {accuracy_gl[word]}')"
      ],
      "metadata": {
        "colab": {
          "base_uri": "https://localhost:8080/"
        },
        "id": "msrE9LOQ87lQ",
        "outputId": "f33f54fb-5b30-43d0-8066-98530c506647"
      },
      "execution_count": 17,
      "outputs": [
        {
          "output_type": "stream",
          "name": "stdout",
          "text": [
            "Best Decoded Concepts Using w2v\n",
            "**laugh**  W2v Accuracy: 1, Glove Accuracy: 4\n",
            "**stupid**  W2v Accuracy: 1, Glove Accuracy: 5\n",
            "**emotion**  W2v Accuracy: 2, Glove Accuracy: 42\n",
            "**hair**  W2v Accuracy: 3, Glove Accuracy: 6\n",
            "**food**  W2v Accuracy: 4, Glove Accuracy: 1\n",
            "**seafood**  W2v Accuracy: 4, Glove Accuracy: 83\n",
            "**liar**  W2v Accuracy: 5, Glove Accuracy: 114\n",
            "**smiling**  W2v Accuracy: 5, Glove Accuracy: 34\n",
            "**soul**  W2v Accuracy: 5, Glove Accuracy: 24\n",
            "**crazy**  W2v Accuracy: 7, Glove Accuracy: 8\n",
            "**do**  W2v Accuracy: 7, Glove Accuracy: 1\n",
            "**useless**  W2v Accuracy: 7, Glove Accuracy: 34\n",
            "**dig**  W2v Accuracy: 8, Glove Accuracy: 43\n",
            "**fish**  W2v Accuracy: 8, Glove Accuracy: 11\n",
            "**music**  W2v Accuracy: 8, Glove Accuracy: 9\n",
            "**silly**  W2v Accuracy: 8, Glove Accuracy: 14\n",
            "**bird**  W2v Accuracy: 9, Glove Accuracy: 60\n",
            "**dressing**  W2v Accuracy: 9, Glove Accuracy: 66\n",
            "**feeling**  W2v Accuracy: 9, Glove Accuracy: 5\n",
            "**sexy**  W2v Accuracy: 9, Glove Accuracy: 57\n",
            "\n",
            " worst Decoded Concepts Using w2v\n",
            "**illness**  W2v Accuracy: 133, Glove Accuracy: 133\n",
            "**charity**  W2v Accuracy: 135, Glove Accuracy: 135\n",
            "**bed**  W2v Accuracy: 136, Glove Accuracy: 136\n",
            "**willingly**  W2v Accuracy: 139, Glove Accuracy: 139\n",
            "**invisible**  W2v Accuracy: 141, Glove Accuracy: 141\n",
            "**ignorance**  W2v Accuracy: 142, Glove Accuracy: 142\n",
            "**sin**  W2v Accuracy: 146, Glove Accuracy: 146\n",
            "**kindness**  W2v Accuracy: 148, Glove Accuracy: 148\n",
            "**mathematical**  W2v Accuracy: 151, Glove Accuracy: 151\n",
            "**elegance**  W2v Accuracy: 152, Glove Accuracy: 152\n",
            "**vacation**  W2v Accuracy: 152, Glove Accuracy: 152\n",
            "**sew**  W2v Accuracy: 154, Glove Accuracy: 154\n",
            "**movie**  W2v Accuracy: 158, Glove Accuracy: 158\n",
            "**usable**  W2v Accuracy: 163, Glove Accuracy: 163\n",
            "**electron**  W2v Accuracy: 165, Glove Accuracy: 165\n",
            "**dissolve**  W2v Accuracy: 167, Glove Accuracy: 167\n",
            "**deceive**  W2v Accuracy: 172, Glove Accuracy: 172\n",
            "**applause**  W2v Accuracy: 175, Glove Accuracy: 175\n",
            "**cockroach**  W2v Accuracy: 178, Glove Accuracy: 178\n",
            "**argumentatively**  W2v Accuracy: 180, Glove Accuracy: 180\n"
          ]
        }
      ]
    },
    {
      "cell_type": "code",
      "source": [
        "N = 30"
      ],
      "metadata": {
        "id": "99sr5cVW898T"
      },
      "execution_count": 18,
      "outputs": []
    },
    {
      "cell_type": "markdown",
      "source": [
        "## Best Intersection"
      ],
      "metadata": {
        "id": "wA1LpfpM9A32"
      }
    },
    {
      "cell_type": "code",
      "source": [
        "best_wv = [x[0] for x in accuracy_wv_sorted[:N]]\n",
        "best_gl = [x[0] for x in accuracy_gl_sorted[:N]]\n",
        "best = [x for x in best_gl if x in best_wv]\n",
        "for word in best:\n",
        "  print(f'{word} - Glove Score: {accuracy_gl[word]}, W2V Score: {accuracy_wv[word]}')"
      ],
      "metadata": {
        "colab": {
          "base_uri": "https://localhost:8080/"
        },
        "id": "lNw-hqTD8_w9",
        "outputId": "dbb35a49-dde9-43bb-b505-d0628245504a"
      },
      "execution_count": 19,
      "outputs": [
        {
          "output_type": "stream",
          "name": "stdout",
          "text": [
            "do - Glove Score: 1, W2V Score: 7\n",
            "food - Glove Score: 1, W2V Score: 4\n",
            "laugh - Glove Score: 4, W2V Score: 1\n",
            "feeling - Glove Score: 5, W2V Score: 9\n",
            "stupid - Glove Score: 5, W2V Score: 1\n",
            "hair - Glove Score: 6, W2V Score: 3\n",
            "lady - Glove Score: 6, W2V Score: 14\n",
            "crazy - Glove Score: 8, W2V Score: 7\n",
            "play - Glove Score: 8, W2V Score: 15\n",
            "music - Glove Score: 9, W2V Score: 8\n",
            "fish - Glove Score: 11, W2V Score: 8\n",
            "wear - Glove Score: 13, W2V Score: 11\n"
          ]
        }
      ]
    },
    {
      "cell_type": "code",
      "source": [
        "worst_wv = [x[0] for x in accuracy_wv_sorted[-N:]]\n",
        "worst_gl = [x[0] for x in accuracy_gl_sorted[-N:]]\n",
        "worst = [x for x in worst_wv if x in worst_gl]\n",
        "for word in worst:\n",
        "  print(f'{word} - Glove Score: {accuracy_gl[word]}, W2V Score: {accuracy_wv[word]}')"
      ],
      "metadata": {
        "colab": {
          "base_uri": "https://localhost:8080/"
        },
        "id": "U_B4BYTk9EuR",
        "outputId": "e0d0179e-948f-4916-9446-626d2b5fe6a0"
      },
      "execution_count": 20,
      "outputs": [
        {
          "output_type": "stream",
          "name": "stdout",
          "text": [
            "residence - Glove Score: 132, W2V Score: 107\n",
            "applause - Glove Score: 175, W2V Score: 114\n",
            "dissolve - Glove Score: 167, W2V Score: 115\n",
            "camera - Glove Score: 122, W2V Score: 119\n",
            "vacation - Glove Score: 152, W2V Score: 128\n",
            "movie - Glove Score: 158, W2V Score: 133\n",
            "driver - Glove Score: 125, W2V Score: 137\n",
            "bed - Glove Score: 136, W2V Score: 138\n",
            "charity - Glove Score: 135, W2V Score: 147\n"
          ]
        }
      ]
    },
    {
      "cell_type": "code",
      "source": [
        "worst_wv_best_gl =  [x for x in worst_wv if x in best_gl]\n",
        "for word in worst_wv_best_gl:\n",
        "  print(f'{word} - Glove Score: {accuracy_gl[word]}, W2V Score: {accuracy_wv[word]}')"
      ],
      "metadata": {
        "id": "y5qRrb969Gat"
      },
      "execution_count": 21,
      "outputs": []
    },
    {
      "cell_type": "code",
      "source": [
        "best_wv_worst_gl =  [x for x in best_wv if x in worst_gl]\n",
        "for word in best_wv_worst_gl:\n",
        "  print(f'{word} - Glove Score: {accuracy_gl[word]}, W2V Score: {accuracy_wv[word]}')"
      ],
      "metadata": {
        "id": "rPx5Pc629IAm"
      },
      "execution_count": 22,
      "outputs": []
    },
    {
      "cell_type": "markdown",
      "source": [
        "##First, We will train the decoder on the entire dataset instead of 18-fold-cross-validation and work with a dataset that fits the shape of the neuraldata."
      ],
      "metadata": {
        "id": "fUTFp80c9Nrf"
      }
    },
    {
      "cell_type": "code",
      "source": [
        "ndata = pd.read_csv(os.path.join(GDRIVE_DIR,'neuralData_for_EXP1.csv'))\n",
        "dtrain = ndata.iloc[:, 1:].values\n",
        "vtrain = read_matrix(\"vectors_180concepts.GV42B300.txt\", sep=\" \")\n",
        "decoder_GLOVE_full = learn_decoder(dtrain,vtrain).T"
      ],
      "metadata": {
        "id": "jBulECrY9JqK"
      },
      "execution_count": 23,
      "outputs": []
    },
    {
      "cell_type": "code",
      "source": [
        "decoder_GLOVE_full.shape"
      ],
      "metadata": {
        "colab": {
          "base_uri": "https://localhost:8080/"
        },
        "id": "0guiOuvL9WxG",
        "outputId": "bf0724ef-9e1f-45c6-8b9b-16bf06b20bf0"
      },
      "execution_count": 24,
      "outputs": [
        {
          "output_type": "execute_result",
          "data": {
            "text/plain": [
              "(300, 185866)"
            ]
          },
          "metadata": {},
          "execution_count": 24
        }
      ]
    },
    {
      "cell_type": "code",
      "source": [
        "import pickle\n",
        "import os\n",
        "with open(os.path.join(GDRIVE_DIR,'EXP2.pkl'),'rb') as file:\n",
        "  exp2_pkl = pickle.load(file)\n",
        "avg_sen_2 = read_matrix(os.path.join(GDRIVE_DIR,'vectors_384sentences.GV42B300.average.txt'),sep=\" \")"
      ],
      "metadata": {
        "id": "6wHUjDuW9YGu"
      },
      "execution_count": 25,
      "outputs": []
    },
    {
      "cell_type": "code",
      "source": [
        "print(avg_sen_2.shape)\n",
        "print(exp2_pkl['Fmridata'].shape)"
      ],
      "metadata": {
        "colab": {
          "base_uri": "https://localhost:8080/"
        },
        "id": "eL0alcaUQYNw",
        "outputId": "15a23b72-777d-4815-f0b4-d3ca705b795e"
      },
      "execution_count": 26,
      "outputs": [
        {
          "output_type": "stream",
          "name": "stdout",
          "text": [
            "(384, 300)\n",
            "(384, 185866)\n"
          ]
        }
      ]
    },
    {
      "cell_type": "code",
      "source": [
        "# init lists and accuracies_dicts for the topics and the subtopics\n",
        "\n",
        "exp2_keyPassageTopics = list(set([x[0] for x in exp2_pkl['keyPassageCategory'][0]]))\n",
        "exp2_keyPassagesSubtopics = list(set([x[0][0] for x in exp2_pkl['keyPassages']]))\n",
        "\n",
        "exp2_topic_accuracies = {k:[] for k in exp2_keyPassageTopics}\n",
        "exp2_subtopic_accuracies = {k:[] for k in exp2_keyPassagesSubtopics}"
      ],
      "metadata": {
        "id": "1l1qO5ROQhlm"
      },
      "execution_count": 27,
      "outputs": []
    },
    {
      "cell_type": "code",
      "source": [
        "accuracy_exp2=[]\n",
        "rankings=0\n",
        "for idx,voxel in enumerate(exp2_pkl['Fmridata']):\n",
        "  decoded = np.dot(decoder_GLOVE_full,voxel)\n",
        "  true_vec = avg_sen_2[idx]\n",
        "  similarities = {i:cosine_similarity(decoded,v) for i,v in enumerate(avg_sen_2)}\n",
        "  similarities = dict(sorted(similarities.items(), key=lambda item: -item[1]))\n",
        "  true_concept_idx = list(similarities.keys()).index(idx)+1\n",
        "  accuracy_exp2.append(true_concept_idx)\n",
        "  rankings += true_concept_idx\n",
        "\n",
        "  passage_id = exp2_pkl['labelsPassageForEachSentence'][idx].item()-1\n",
        "  subtopic = exp2_pkl['keyPassages'][passage_id][0][0]\n",
        "  topic_id = exp2_pkl['labelsPassageCategory'][passage_id].item()-1\n",
        "  topic = exp2_pkl['keyPassageCategory'][0][topic_id][0]\n",
        "\n",
        "  exp2_topic_accuracies[topic].append(true_concept_idx)\n",
        "  exp2_subtopic_accuracies[subtopic].append(true_concept_idx)\n",
        "\n",
        "exp2_topic_accuracies = {k:np.mean(v) for k,v in exp2_topic_accuracies.items()}\n",
        "exp2_subtopic_accuracies = {k:np.mean(v) for k,v in exp2_subtopic_accuracies.items()}"
      ],
      "metadata": {
        "id": "hDjdc0twQjt6"
      },
      "execution_count": 28,
      "outputs": []
    },
    {
      "cell_type": "code",
      "source": [
        "np.mean(accuracy_exp2)"
      ],
      "metadata": {
        "colab": {
          "base_uri": "https://localhost:8080/"
        },
        "id": "zidEZcUcQmM4",
        "outputId": "36ebde4e-7aa7-462c-818b-d2708692cbd4"
      },
      "execution_count": 29,
      "outputs": [
        {
          "output_type": "execute_result",
          "data": {
            "text/plain": [
              "156.92708333333334"
            ]
          },
          "metadata": {},
          "execution_count": 29
        }
      ]
    },
    {
      "cell_type": "markdown",
      "source": [
        "## Decoding Exp3 data\n",
        "\n"
      ],
      "metadata": {
        "id": "xWECHAQ1U3bF"
      }
    },
    {
      "cell_type": "code",
      "source": [
        "import pickle\n",
        "import os\n",
        "with open(os.path.join(GDRIVE_DIR,'EXP3.pkl'),'rb') as file:\n",
        "  exp3_pkl = pickle.load(file)\n",
        "avg_sen_3 = read_matrix(os.path.join(GDRIVE_DIR,'vectors_243sentences.GV42B300.average.txt'),sep=\" \")"
      ],
      "metadata": {
        "id": "PXlKagsvUzsr"
      },
      "execution_count": 30,
      "outputs": []
    },
    {
      "cell_type": "code",
      "source": [
        "# init lists and accuracies_dicts for the topics and the subtopics\n",
        "\n",
        "exp3_keyPassageTopics = list(set([x[0] for x in exp3_pkl['keyPassageCategory'][0]]))\n",
        "exp3_keyPassagesSubtopics = list(set([x[0][0] for x in exp3_pkl['keyPassages']]))\n",
        "\n",
        "exp3_topic_accuracies = {k:[] for k in exp3_keyPassageTopics}\n",
        "exp3_subtopic_accuracies = {k:[] for k in exp3_keyPassagesSubtopics}"
      ],
      "metadata": {
        "id": "CePh9q_eVQmA"
      },
      "execution_count": 31,
      "outputs": []
    },
    {
      "cell_type": "code",
      "source": [
        "accuracy=[]\n",
        "rankings=0\n",
        "for idx,voxel in enumerate(exp3_pkl['Fmridata']):\n",
        "  decoded = np.dot(decoder_GLOVE_full,voxel)\n",
        "  true_vec = avg_sen_3[idx]\n",
        "  similarities={i:cosine_similarity(decoded,v) for i,v in enumerate(avg_sen_3)}\n",
        "  similarities=dict(sorted(similarities.items(), key=lambda item: -item[1]))\n",
        "  true_concept_idx=list(similarities.keys()).index(idx)+1\n",
        "  accuracy.append(true_concept_idx)\n",
        "  rankings+=true_concept_idx\n",
        "\n",
        "  passage_id = exp3_pkl['labelsPassageForEachSentence'][idx].item()-1\n",
        "  subtopic = exp3_pkl['keyPassages'][passage_id][0][0]\n",
        "  topic_id = exp3_pkl['labelsPassageCategory'][passage_id].item()-1\n",
        "  topic = exp3_pkl['keyPassageCategory'][0][topic_id][0]\n",
        "\n",
        "  exp3_topic_accuracies[topic].append(true_concept_idx)\n",
        "  exp3_subtopic_accuracies[subtopic].append(true_concept_idx)\n",
        "\n",
        "exp3_topic_accuracies = {k:np.mean(v) for k,v in exp3_topic_accuracies.items()}\n",
        "exp3_subtopic_accuracies = {k:np.mean(v) for k,v in exp3_subtopic_accuracies.items()}"
      ],
      "metadata": {
        "id": "GWa5--omVTwY"
      },
      "execution_count": 32,
      "outputs": []
    },
    {
      "cell_type": "code",
      "source": [
        "np.mean(accuracy)"
      ],
      "metadata": {
        "colab": {
          "base_uri": "https://localhost:8080/"
        },
        "id": "b0r0Su2xVVw8",
        "outputId": "7e7b022b-55aa-42ad-c520-5f193601ecff"
      },
      "execution_count": 33,
      "outputs": [
        {
          "output_type": "execute_result",
          "data": {
            "text/plain": [
              "100.7448559670782"
            ]
          },
          "metadata": {},
          "execution_count": 33
        }
      ]
    },
    {
      "cell_type": "code",
      "source": [
        "with open (os.path.join(GDRIVE_DIR,'stimuli_243sentences.txt'),'rb') as file:\n",
        "  sen_243= file.readlines()"
      ],
      "metadata": {
        "id": "otziM2dBVZFV"
      },
      "execution_count": 34,
      "outputs": []
    },
    {
      "cell_type": "markdown",
      "source": [
        "##Results"
      ],
      "metadata": {
        "id": "Hda9t9PzVdGt"
      }
    },
    {
      "cell_type": "code",
      "source": [
        "exp2_topic_accuracies = sorted(exp2_topic_accuracies.items(), key=lambda item: item[1])\n",
        "exp2_subtopic_accuracies = sorted(exp2_subtopic_accuracies.items(), key=lambda item: item[1])\n",
        "\n",
        "exp3_topic_accuracies = sorted(exp3_topic_accuracies.items(), key=lambda item: item[1])\n",
        "exp3_subtopic_accuracies = sorted(exp3_subtopic_accuracies.items(), key=lambda item: item[1])"
      ],
      "metadata": {
        "id": "qfNxnX4SVa30"
      },
      "execution_count": 35,
      "outputs": []
    },
    {
      "cell_type": "code",
      "source": [
        "print(\"best topics (exp2 and exp3)\")\n",
        "print(exp2_topic_accuracies[0:5])\n",
        "print(exp3_topic_accuracies[0:5])\n",
        "print()\n",
        "print(\"worst topics (exp2 and exp3)\")\n",
        "print(exp2_topic_accuracies[-5:])\n",
        "print(exp3_topic_accuracies[-5:])\n",
        "print()\n",
        "print(\"best subtopics (exp2)\")\n",
        "print(exp2_subtopic_accuracies[0:5])\n",
        "# print(exp3_subtopic_accuracies[0:5])\n",
        "print()\n",
        "print(\"worst subtopics (exp2)\")\n",
        "print(exp2_subtopic_accuracies[-5:])\n",
        "# print(exp3_subtopic_accuracies[-5:])\n",
        "print()"
      ],
      "metadata": {
        "colab": {
          "base_uri": "https://localhost:8080/"
        },
        "id": "jawn4JwIVeU_",
        "outputId": "6590714b-13b6-4fce-bc6d-c742d295f187"
      },
      "execution_count": 36,
      "outputs": [
        {
          "output_type": "stream",
          "name": "stdout",
          "text": [
            "best topics (exp2 and exp3)\n",
            "[('body_part', 70.4375), ('human', 92.75), ('drink_non_alcoholic', 98.9375), ('dwelling', 113.6875), ('appliance', 113.75)]\n",
            "[('dreams', 52.8), ('stress', 58.2), ('castle', 59.1), ('opera', 63.63636363636363), ('bone_fracture', 68.0909090909091)]\n",
            "\n",
            "worst topics (exp2 and exp3)\n",
            "[('music', 185.0), ('vehicles_transport', 186.6875), ('animal', 196.25), ('vegetable', 237.625), ('profession', 249.125)]\n",
            "[('pharmacist', 136.6), ('pyramid', 147.2), ('lawn_mower', 148.1), ('owl', 148.6), ('beekeeping', 169.8181818181818)]\n",
            "\n",
            "best subtopics (exp2)\n",
            "[('Coffee', 18.75), ('Library', 29.75), ('Finger', 48.75), ('Girl', 51.75), ('Drought', 56.75)]\n",
            "\n",
            "worst subtopics (exp2)\n",
            "[('Butterfly', 284.5), ('Whale', 286.25), ('Broccoli', 289.5), ('Screwdriver', 310.25), ('Carpenter', 338.5)]\n",
            "\n"
          ]
        }
      ]
    },
    {
      "cell_type": "code",
      "source": [
        "sub_2_topic_exp2 = {}\n",
        "for idx in range(384):\n",
        "  passage_id = exp2_pkl['labelsPassageForEachSentence'][idx].item()-1\n",
        "  subtopic = exp2_pkl['keyPassages'][passage_id][0][0]\n",
        "  if subtopic not in sub_2_topic_exp2.keys():\n",
        "    topic_id = exp2_pkl['labelsPassageCategory'][passage_id].item()-1\n",
        "    topic = exp2_pkl['keyPassageCategory'][0][topic_id][0]\n",
        "    sub_2_topic_exp2[subtopic] = topic"
      ],
      "metadata": {
        "id": "2aBAwHyWVjGt"
      },
      "execution_count": 37,
      "outputs": []
    },
    {
      "cell_type": "code",
      "source": [
        "best_sub= [('Coffee', 18.75), ('Library', 29.75), ('Finger', 48.75), ('Girl', 51.75), ('Drought', 56.75)]\n",
        "for x,s in best_sub:\n",
        "  print(f'{x} -> {sub_2_topic_exp2[x]}')\n",
        "worst_sub = [('Butterfly', 284.5), ('Whale', 286.25), ('Broccoli', 289.5), ('Screwdriver', 310.25), ('Carpenter', 338.5)]\n",
        "for x,s in worst_sub:\n",
        "  print(f'{x} -> {sub_2_topic_exp2[x]}')"
      ],
      "metadata": {
        "colab": {
          "base_uri": "https://localhost:8080/"
        },
        "id": "7XNtMnwSVluZ",
        "outputId": "e6e4c96b-9ef6-4b75-e84f-f66df99f0165"
      },
      "execution_count": 38,
      "outputs": [
        {
          "output_type": "stream",
          "name": "stdout",
          "text": [
            "Coffee -> drink_non_alcoholic\n",
            "Library -> place\n",
            "Finger -> body_part\n",
            "Girl -> human\n",
            "Drought -> disaster\n",
            "Butterfly -> insect\n",
            "Whale -> animal\n",
            "Broccoli -> vegetable\n",
            "Screwdriver -> tool\n",
            "Carpenter -> profession\n"
          ]
        }
      ]
    },
    {
      "cell_type": "code",
      "source": [
        "sub_2_topic_exp3 = {}\n",
        "for idx in range(243):\n",
        "  passage_id = exp3_pkl['labelsPassageForEachSentence'][idx].item()-1\n",
        "  subtopic = exp3_pkl['keyPassages'][passage_id][0][0]\n",
        "  if subtopic not in sub_2_topic_exp3.keys():\n",
        "    topic_id = exp3_pkl['labelsPassageCategory'][passage_id].item()-1\n",
        "    topic = exp3_pkl['keyPassageCategory'][0][topic_id][0]\n",
        "    sub_2_topic_exp3[subtopic] = topic"
      ],
      "metadata": {
        "id": "LrbgTJrRVnT7"
      },
      "execution_count": 39,
      "outputs": []
    },
    {
      "cell_type": "code",
      "source": [
        "sub_2_topic_exp3"
      ],
      "metadata": {
        "colab": {
          "base_uri": "https://localhost:8080/"
        },
        "id": "D04LbiEbVpf4",
        "outputId": "49a6ce63-466c-4fc2-dd41-c106344c07a6"
      },
      "execution_count": 40,
      "outputs": [
        {
          "output_type": "execute_result",
          "data": {
            "text/plain": [
              "{'beekeeping': 'beekeeping',\n",
              " 'dreams': 'dreams',\n",
              " 'gambling': 'gambling',\n",
              " 'hurricane': 'hurricane',\n",
              " 'ice_cream': 'ice_cream',\n",
              " 'lawn_mower': 'lawn_mower',\n",
              " 'astronaut': 'astronaut',\n",
              " 'computer_graphics': 'computer_graphics',\n",
              " 'law_school': 'law_school',\n",
              " 'pharmacist': 'pharmacist',\n",
              " 'stress': 'stress',\n",
              " 'tuxedo': 'tuxedo',\n",
              " 'blindness': 'blindness',\n",
              " 'taste': 'taste',\n",
              " 'bone_fracture': 'bone_fracture',\n",
              " 'infection': 'infection',\n",
              " 'opera': 'opera',\n",
              " 'painter': 'painter',\n",
              " 'owl': 'owl',\n",
              " 'polar_bear': 'polar_bear',\n",
              " 'castle': 'castle',\n",
              " 'pyramid': 'pyramid',\n",
              " 'rock_climbing': 'rock_climbing',\n",
              " 'skiing': 'skiing'}"
            ]
          },
          "metadata": {},
          "execution_count": 40
        }
      ]
    },
    {
      "cell_type": "code",
      "source": [
        "!pip install transformers\n",
        "!pip install SentencePiece"
      ],
      "metadata": {
        "colab": {
          "base_uri": "https://localhost:8080/"
        },
        "id": "6qEYCt5rVsBO",
        "outputId": "4a6fd3f9-6b2c-4da7-9a47-739addbe852a"
      },
      "execution_count": 41,
      "outputs": [
        {
          "output_type": "stream",
          "name": "stdout",
          "text": [
            "Collecting transformers\n",
            "  Downloading transformers-4.30.2-py3-none-any.whl (7.2 MB)\n",
            "\u001b[2K     \u001b[90m━━━━━━━━━━━━━━━━━━━━━━━━━━━━━━━━━━━━━━━━\u001b[0m \u001b[32m7.2/7.2 MB\u001b[0m \u001b[31m47.1 MB/s\u001b[0m eta \u001b[36m0:00:00\u001b[0m\n",
            "\u001b[?25hRequirement already satisfied: filelock in /usr/local/lib/python3.10/dist-packages (from transformers) (3.12.2)\n",
            "Collecting huggingface-hub<1.0,>=0.14.1 (from transformers)\n",
            "  Downloading huggingface_hub-0.16.4-py3-none-any.whl (268 kB)\n",
            "\u001b[2K     \u001b[90m━━━━━━━━━━━━━━━━━━━━━━━━━━━━━━━━━━━━━━\u001b[0m \u001b[32m268.8/268.8 kB\u001b[0m \u001b[31m26.9 MB/s\u001b[0m eta \u001b[36m0:00:00\u001b[0m\n",
            "\u001b[?25hRequirement already satisfied: numpy>=1.17 in /usr/local/lib/python3.10/dist-packages (from transformers) (1.22.4)\n",
            "Requirement already satisfied: packaging>=20.0 in /usr/local/lib/python3.10/dist-packages (from transformers) (23.1)\n",
            "Requirement already satisfied: pyyaml>=5.1 in /usr/local/lib/python3.10/dist-packages (from transformers) (6.0)\n",
            "Requirement already satisfied: regex!=2019.12.17 in /usr/local/lib/python3.10/dist-packages (from transformers) (2022.10.31)\n",
            "Requirement already satisfied: requests in /usr/local/lib/python3.10/dist-packages (from transformers) (2.27.1)\n",
            "Collecting tokenizers!=0.11.3,<0.14,>=0.11.1 (from transformers)\n",
            "  Downloading tokenizers-0.13.3-cp310-cp310-manylinux_2_17_x86_64.manylinux2014_x86_64.whl (7.8 MB)\n",
            "\u001b[2K     \u001b[90m━━━━━━━━━━━━━━━━━━━━━━━━━━━━━━━━━━━━━━━━\u001b[0m \u001b[32m7.8/7.8 MB\u001b[0m \u001b[31m74.8 MB/s\u001b[0m eta \u001b[36m0:00:00\u001b[0m\n",
            "\u001b[?25hCollecting safetensors>=0.3.1 (from transformers)\n",
            "  Downloading safetensors-0.3.1-cp310-cp310-manylinux_2_17_x86_64.manylinux2014_x86_64.whl (1.3 MB)\n",
            "\u001b[2K     \u001b[90m━━━━━━━━━━━━━━━━━━━━━━━━━━━━━━━━━━━━━━━━\u001b[0m \u001b[32m1.3/1.3 MB\u001b[0m \u001b[31m68.9 MB/s\u001b[0m eta \u001b[36m0:00:00\u001b[0m\n",
            "\u001b[?25hRequirement already satisfied: tqdm>=4.27 in /usr/local/lib/python3.10/dist-packages (from transformers) (4.65.0)\n",
            "Requirement already satisfied: fsspec in /usr/local/lib/python3.10/dist-packages (from huggingface-hub<1.0,>=0.14.1->transformers) (2023.6.0)\n",
            "Requirement already satisfied: typing-extensions>=3.7.4.3 in /usr/local/lib/python3.10/dist-packages (from huggingface-hub<1.0,>=0.14.1->transformers) (4.7.1)\n",
            "Requirement already satisfied: urllib3<1.27,>=1.21.1 in /usr/local/lib/python3.10/dist-packages (from requests->transformers) (1.26.16)\n",
            "Requirement already satisfied: certifi>=2017.4.17 in /usr/local/lib/python3.10/dist-packages (from requests->transformers) (2023.5.7)\n",
            "Requirement already satisfied: charset-normalizer~=2.0.0 in /usr/local/lib/python3.10/dist-packages (from requests->transformers) (2.0.12)\n",
            "Requirement already satisfied: idna<4,>=2.5 in /usr/local/lib/python3.10/dist-packages (from requests->transformers) (3.4)\n",
            "Installing collected packages: tokenizers, safetensors, huggingface-hub, transformers\n",
            "Successfully installed huggingface-hub-0.16.4 safetensors-0.3.1 tokenizers-0.13.3 transformers-4.30.2\n",
            "Collecting SentencePiece\n",
            "  Downloading sentencepiece-0.1.99-cp310-cp310-manylinux_2_17_x86_64.manylinux2014_x86_64.whl (1.3 MB)\n",
            "\u001b[2K     \u001b[90m━━━━━━━━━━━━━━━━━━━━━━━━━━━━━━━━━━━━━━━━\u001b[0m \u001b[32m1.3/1.3 MB\u001b[0m \u001b[31m20.1 MB/s\u001b[0m eta \u001b[36m0:00:00\u001b[0m\n",
            "\u001b[?25hInstalling collected packages: SentencePiece\n",
            "Successfully installed SentencePiece-0.1.99\n"
          ]
        }
      ]
    },
    {
      "cell_type": "code",
      "source": [
        "from transformers import LlamaForCausalLM, LlamaTokenizer\n",
        "import torch\n",
        "import pickle\n",
        "import os"
      ],
      "metadata": {
        "id": "DPvM5G91Vt8_"
      },
      "execution_count": 42,
      "outputs": []
    },
    {
      "cell_type": "code",
      "source": [
        "with open(os.path.join(GDRIVE_DIR,'EXP2.pkl'),'rb') as file:\n",
        "  exp2_pkl = pickle.load(file)\n",
        "avg_sen_2 = read_matrix(os.path.join(GDRIVE_DIR,'vectors_384sentences.GV42B300.average.txt'),sep=\" \")"
      ],
      "metadata": {
        "id": "PzTa1dQHWCO8"
      },
      "execution_count": 43,
      "outputs": []
    },
    {
      "cell_type": "code",
      "source": [
        "with open(os.path.join(GDRIVE_DIR,'EXP3.pkl'),'rb') as file:\n",
        "  exp3_pkl = pickle.load(file)\n",
        "avg_sen_3 = read_matrix(os.path.join(GDRIVE_DIR,'vectors_243sentences.GV42B300.average.txt'),sep=\" \")"
      ],
      "metadata": {
        "id": "dmHFCYtJXB2c"
      },
      "execution_count": 44,
      "outputs": []
    },
    {
      "cell_type": "markdown",
      "source": [
        "## Task 1 - Training a decoder on EXP2 data using GLoVe and BERT Vectors and compare the results"
      ],
      "metadata": {
        "id": "qh49zY7sXGGE"
      }
    },
    {
      "cell_type": "code",
      "source": [
        "from transformers import BertTokenizer, BertModel\n",
        "import torch\n",
        "\n",
        "tokenizer = BertTokenizer.from_pretrained('prajjwal1/bert-mini')\n",
        "model = BertModel.from_pretrained('prajjwal1/bert-mini')\n",
        "\n",
        "bert_vectors = []\n",
        "for s in exp2_pkl['keySentences']:\n",
        "  s = s[0][0].item()\n",
        "  inputs = tokenizer(s, return_tensors=\"pt\")\n",
        "  outputs = model(**inputs)\n",
        "  cls = outputs.last_hidden_state.squeeze()[0].detach().numpy()\n",
        "  bert_vectors.append(cls)\n",
        "\n",
        "bert_vectors = np.array(bert_vectors)"
      ],
      "metadata": {
        "colab": {
          "base_uri": "https://localhost:8080/",
          "height": 187,
          "referenced_widgets": [
            "e292faba442f4437bd4a62ebba57ed83",
            "d1690bdfdc3940089445da55c8ff8b60",
            "282881f1f35f45c99be9ee96826d1263",
            "c935efd93922415ba453cb8b5b36f531",
            "d4c1dacf91ce4d6283c0ee1221c36ea7",
            "8102bd9584684179863fab8772b18ce1",
            "cab66f2c7c8042caa052fee51fda9cf8",
            "60ff81e625084056aad9fb1c1bb3fb3e",
            "5448d1c50dda43e0884d433f447594b2",
            "6b54a46b68054747b8e1ae5c974a852d",
            "d91eea77f12940409a5556126bae8736",
            "856a3087bd01498e9ac1bc3d86c0e335",
            "f0204c7840af457aaec6eee9fecbfec8",
            "09f8e41777284b518ec52dc1feef9583",
            "cd6b1b621291430c90aa5ebd755e6290",
            "d53c3a8a3fc74a6590c5df33e42fec33",
            "f44cc98357ca42d380f5e7a862226ba1",
            "5b6fe5d3825246b5ba71080abb0970f8",
            "f735244f64094707b5cb75c11a665a57",
            "5c499b351da549e1bc7392e9421543ee",
            "79160b752bb94f8893e9f96e5267770d",
            "e16cb34937e94a29993272cfad5de32e",
            "97002e9fc27940d7b40d3d3c3a5076a0",
            "d8dc859aed2d40f79f60af961f459bb1",
            "75f1f17d99b7463184c22c3a0eda345d",
            "9f88c56cd2f64959a776ff2a39118a1e",
            "0274687e1049491cbede93d7e9692f24",
            "d01f8a5595a448ff8053c44ca9caac6f",
            "fe34b238dec44fb6b6a3797ae858f4b4",
            "31e0846fe1f543cf9b9c9ad50f7ee774",
            "efee4f754a0744db8f96fe93a0bdcbdc",
            "1a522b2fdc0a41ca93c7e8b151ca4f4c",
            "67321621c23b496a8e37ca59e476f47e"
          ]
        },
        "id": "9eeZoQAAXDYu",
        "outputId": "6a2fc8e4-44a7-4385-8a73-3fd9caea4aa9"
      },
      "execution_count": 45,
      "outputs": [
        {
          "output_type": "display_data",
          "data": {
            "text/plain": [
              "Downloading (…)solve/main/vocab.txt:   0%|          | 0.00/232k [00:00<?, ?B/s]"
            ],
            "application/vnd.jupyter.widget-view+json": {
              "version_major": 2,
              "version_minor": 0,
              "model_id": "e292faba442f4437bd4a62ebba57ed83"
            }
          },
          "metadata": {}
        },
        {
          "output_type": "display_data",
          "data": {
            "text/plain": [
              "Downloading (…)lve/main/config.json:   0%|          | 0.00/286 [00:00<?, ?B/s]"
            ],
            "application/vnd.jupyter.widget-view+json": {
              "version_major": 2,
              "version_minor": 0,
              "model_id": "856a3087bd01498e9ac1bc3d86c0e335"
            }
          },
          "metadata": {}
        },
        {
          "output_type": "display_data",
          "data": {
            "text/plain": [
              "Downloading pytorch_model.bin:   0%|          | 0.00/45.1M [00:00<?, ?B/s]"
            ],
            "application/vnd.jupyter.widget-view+json": {
              "version_major": 2,
              "version_minor": 0,
              "model_id": "97002e9fc27940d7b40d3d3c3a5076a0"
            }
          },
          "metadata": {}
        },
        {
          "output_type": "stream",
          "name": "stderr",
          "text": [
            "Some weights of the model checkpoint at prajjwal1/bert-mini were not used when initializing BertModel: ['cls.predictions.transform.LayerNorm.bias', 'cls.seq_relationship.bias', 'cls.predictions.transform.LayerNorm.weight', 'cls.predictions.transform.dense.bias', 'cls.predictions.bias', 'cls.predictions.decoder.bias', 'cls.predictions.transform.dense.weight', 'cls.predictions.decoder.weight', 'cls.seq_relationship.weight']\n",
            "- This IS expected if you are initializing BertModel from the checkpoint of a model trained on another task or with another architecture (e.g. initializing a BertForSequenceClassification model from a BertForPreTraining model).\n",
            "- This IS NOT expected if you are initializing BertModel from the checkpoint of a model that you expect to be exactly identical (initializing a BertForSequenceClassification model from a BertForSequenceClassification model).\n"
          ]
        }
      ]
    },
    {
      "cell_type": "code",
      "source": [
        "folds_scores_bert = []\n",
        "accuracy={}\n",
        "data = exp2_pkl['Fmridata']\n",
        "n = len(data)\n",
        "test_fold_size= int(n/20)\n",
        "for i in range(20):\n",
        "  rankings = 0\n",
        "  train_idx, test_idx = create_folds(test_fold_size,i,n)\n",
        "  dtrain,dtest = data[train_idx], data[test_idx]\n",
        "  vtrain,vtest = bert_vectors[train_idx], bert_vectors[test_idx]\n",
        "  decoder_bert = learn_decoder(dtrain,vtrain).T\n",
        "  decoded_vectors_bert = [np.dot(decoder_bert,voxel) for voxel in dtest]\n",
        "  for decoded,idx in zip(decoded_vectors_bert, test_idx):\n",
        "    true_vec = bert_vectors[idx]\n",
        "    similarities = {i:cosine_similarity(decoded,v) for i,v in enumerate(bert_vectors)}\n",
        "    similarities = dict(sorted(similarities.items(), key=lambda item: -item[1]))\n",
        "    true_concept_idx = list(similarities.keys()).index(idx)+1\n",
        "    # accuracy.append(true_concept_idx)\n",
        "    rankings += true_concept_idx\n",
        "  folds_scores_bert.append(rankings/test_fold_size)"
      ],
      "metadata": {
        "id": "IYyt6gb9Zw6g"
      },
      "execution_count": 46,
      "outputs": []
    },
    {
      "cell_type": "code",
      "source": [
        "folds_scores_glove_exp2 = []\n",
        "accuracy={}\n",
        "data = exp2_pkl['Fmridata']\n",
        "n = len(data)\n",
        "test_fold_size= int(n/20)\n",
        "for i in range(20):\n",
        "  rankings = 0\n",
        "  train_idx, test_idx = create_folds(test_fold_size,i,n)\n",
        "  dtrain,dtest = data[train_idx], data[test_idx]\n",
        "  vtrain,vtest = avg_sen_2[train_idx], avg_sen_2[test_idx]\n",
        "  decoder_glove_exp2 = learn_decoder(dtrain,vtrain).T\n",
        "  decoded_vectors_glove_exp2 = [np.dot(decoder_glove_exp2,voxel) for voxel in dtest]\n",
        "  for decoded,idx in zip(decoded_vectors_glove_exp2,test_idx):\n",
        "    true_vec = avg_sen_2[idx]\n",
        "    similarities = {i:cosine_similarity(decoded,v) for i,v in enumerate(avg_sen_2)}\n",
        "    similarities = dict(sorted(similarities.items(), key=lambda item: -item[1]))\n",
        "    true_concept_idx = list(similarities.keys()).index(idx)+1\n",
        "    rankings += true_concept_idx\n",
        "  folds_scores_glove_exp2.append(rankings/test_fold_size)"
      ],
      "metadata": {
        "id": "52NLa9bntkK4"
      },
      "execution_count": 47,
      "outputs": []
    },
    {
      "cell_type": "code",
      "source": [
        "import matplotlib.pyplot as plt\n",
        "\n",
        "plt.plot(range(1,21),folds_scores_bert, color='orange')\n",
        "plt.plot(range(1,21),folds_scores_glove_exp2, color='green')\n",
        "plt.title('Avg accuracy score per fold')\n",
        "plt.xlabel('fold')\n",
        "plt.ylabel('AVG Accuracy (By Ranking)')\n",
        "plt.legend(['BERT','GLOVE'])"
      ],
      "metadata": {
        "colab": {
          "base_uri": "https://localhost:8080/",
          "height": 490
        },
        "id": "3qdXxK0AtrJ-",
        "outputId": "25f3c971-4468-420b-b2e2-3c6db735b924"
      },
      "execution_count": 48,
      "outputs": [
        {
          "output_type": "execute_result",
          "data": {
            "text/plain": [
              "<matplotlib.legend.Legend at 0x783399ba2f20>"
            ]
          },
          "metadata": {},
          "execution_count": 48
        },
        {
          "output_type": "display_data",
          "data": {
            "text/plain": [
              "<Figure size 640x480 with 1 Axes>"
            ],
            "image/png": "[encoded data removed]"
          },
          "metadata": {}
        }
      ]
    },
    {
      "cell_type": "code",
      "source": [
        "print(f'bert mean {np.mean(folds_scores_bert)} GLOVE mean: {np.mean(folds_scores_glove_exp2)}')"
      ],
      "metadata": {
        "colab": {
          "base_uri": "https://localhost:8080/"
        },
        "id": "E0NMjPLNtuyu",
        "outputId": "44c17d43-ea78-402f-882b-c3246be927a9"
      },
      "execution_count": 49,
      "outputs": [
        {
          "output_type": "stream",
          "name": "stdout",
          "text": [
            "bert mean 118.24736842105264 GLOVE mean: 148.1421052631579\n"
          ]
        }
      ]
    },
    {
      "cell_type": "code",
      "source": [
        "accuracy=[]\n",
        "rankings=0\n",
        "for idx,voxel in enumerate(exp2_pkl['Fmridata']):\n",
        "  decoded = np.dot(decoder_GLOVE_full,voxel)\n",
        "  true_vec = avg_sen_2[idx]\n",
        "  similarities = {i:cosine_similarity(decoded,v) for i,v in enumerate(avg_sen_2)}\n",
        "  similarities = dict(sorted(similarities.items(), key=lambda item: -item[1]))\n",
        "  true_concept_idx = list(similarities.keys()).index(idx)+1\n",
        "  accuracy.append(true_concept_idx)\n",
        "  rankings += true_concept_idx"
      ],
      "metadata": {
        "id": "gRWMc0HqzUyl"
      },
      "execution_count": 50,
      "outputs": []
    },
    {
      "cell_type": "markdown",
      "source": [
        "## Task 2 - Build a brain-encoder model using GloVe and BERT vectors"
      ],
      "metadata": {
        "id": "9cYQkrd1MABz"
      }
    },
    {
      "cell_type": "code",
      "source": [
        "import numpy as np\n",
        "import statsmodels.api as sm\n",
        "import tqdm\n",
        "import matplotlib.pyplot as plt\n",
        "\n",
        "\n",
        "def calc_regressions(sentences_embedding, data):\n",
        "  X = sentences_embedding\n",
        "  X = sm.add_constant(X)\n",
        "  R_2_voxels = []\n",
        "  R_2_adj_voxels=[]\n",
        "  P_vals = []\n",
        "  for voxel_id in tqdm.tqdm(range(data.shape[1])):\n",
        "    Y = data[:,voxel_id]\n",
        "    model = sm.OLS(Y,X)\n",
        "    results = model.fit()\n",
        "    R_2_voxels.append(results.rsquared)\n",
        "    P_vals.append(results.f_pvalue)\n",
        "    R_2_adj_voxels.append(results.rsquared_adj)\n",
        "\n",
        "  R_2_voxels = np.array(R_2_voxels)\n",
        "  P_vals = np.array(P_vals)\n",
        "  R_2_adj_voxels = np.array(R_2_adj_voxels)\n",
        "\n",
        "  return P_vals,R_2_voxels,R_2_adj_voxels\n"
      ],
      "metadata": {
        "id": "wFlxFYJsL7DS"
      },
      "execution_count": 51,
      "outputs": []
    },
    {
      "cell_type": "code",
      "source": [
        "def print_results(P_vals, R_2_voxels, R_2_adj_voxels, name):\n",
        "  print(\"Analysis for: {}\".format(name))\n",
        "  print(\"Voxel Analysis:\")\n",
        "  print(\"Significantly associated voxels (%): {:.2f}\".format(np.nanmean(P_vals<0.05)*100))\n",
        "  print(\"Non-NaN p-values (%): {:.2f}\".format(np.mean(~np.isnan(P_vals))*100))\n",
        "  print(\"Mean p-value: {:.4f}\".format(np.nanmean(P_vals)))\n",
        "  print(\"Standard Deviation of p-values: {:.4f}\\n\".format(np.nanstd(P_vals)))\n",
        "\n",
        "  print(\"R-squared Analysis:\")\n",
        "  print(\"Mean: {:.4f}\".format(np.nanmean(R_2_voxels)))\n",
        "  print(\"Standard Deviation: {:.4f}\".format(np.nanstd(R_2_voxels)))\n",
        "  print(\"Non-NaN R-squared (%): {:.2f}\\n\".format(np.mean(~np.isnan(R_2_voxels))*100))\n",
        "\n",
        "  print(\"Adjusted R-squared Analysis:\")\n",
        "  print(\"Mean: {:.4f}\".format(np.nanmean(R_2_adj_voxels)))\n",
        "  print(\"Standard Deviation: {:.4f}\".format(np.nanstd(R_2_adj_voxels)))\n",
        "  print(\"Non-NaN Adjusted R-squared (%): {:.2f}\\n\".format(np.mean(~np.isnan(R_2_adj_voxels))*100))\n",
        "\n",
        "  print(\"Significant-Only Analysis: P_Value\")\n",
        "  P_vals_sign = P_vals<0.05\n",
        "  print(\"Mean p-value: {:.4f}\".format(np.nanmean(P_vals[P_vals_sign])))\n",
        "  print(\"Standard Deviation of p-values: {:.4f}\".format(np.nanstd(P_vals[P_vals_sign])))\n",
        "\n",
        "  print(\"Mean R-squared: {:.4f}\".format(np.nanmean(R_2_voxels[P_vals_sign])))\n",
        "  print(\"Standard Deviation of R-squared: {:.4f}\".format(np.nanstd(R_2_voxels[P_vals_sign])))\n",
        "\n",
        "  print(\"Mean Adjusted R-squared: {:.4f}\".format(np.nanmean(R_2_adj_voxels[P_vals_sign])))\n",
        "  print(\"Standard Deviation of Adjusted R-squared: {:.4f}\".format(np.nanstd(R_2_adj_voxels[P_vals_sign])))\n",
        "\n",
        "  print()\n",
        "  print(\"Significant-Only Analysis: R_2_Value\")\n",
        "  R_2_vals_sign = R_2_voxels>0.75\n",
        "  print(\"Mean p-value: {:.4f}\".format(np.nanmean(P_vals[R_2_vals_sign])))\n",
        "  print(\"Standard Deviation of p-values: {:.4f}\".format(np.nanstd(P_vals[R_2_vals_sign])))\n",
        "\n",
        "  print(\"Mean R-squared: {:.4f}\".format(np.nanmean(R_2_voxels[R_2_vals_sign])))\n",
        "  print(\"Standard Deviation of R-squared: {:.4f}\".format(np.nanstd(R_2_voxels[R_2_vals_sign])))\n",
        "\n",
        "  print(\"Mean Adjusted R-squared: {:.4f}\".format(np.nanmean(R_2_adj_voxels[R_2_vals_sign])))\n",
        "  print(\"Standard Deviation of Adjusted R-squared: {:.4f}\".format(np.nanstd(R_2_adj_voxels[R_2_vals_sign])))\n"
      ],
      "metadata": {
        "id": "1kpLs_B6iRI_"
      },
      "execution_count": 52,
      "outputs": []
    },
    {
      "cell_type": "code",
      "source": [
        "P_vals_glove,R_2_voxels_glove,R_2_adj_voxels_glove = calc_regressions(avg_sen_2,exp2_pkl['Fmridata'])"
      ],
      "metadata": {
        "id": "IZCSC3mKMEOt"
      },
      "execution_count": null,
      "outputs": []
    },
    {
      "cell_type": "code",
      "source": [
        "import pickle\n",
        "\n",
        "with open('results.pkl', 'rb') as f:\n",
        "    data = pickle.load(f)\n",
        "P_vals_bert = data['P_vals_bert']\n",
        "R_2_voxels_bert = data['R_2_voxels_bert']\n",
        "R_2_adj_voxels_bert = data['R_2_adj_voxels_bert']\n",
        "\n",
        "with open('my_saved_data.pkl', 'rb') as f:\n",
        "  data2 = pickle.load(f)\n",
        "P_vals_glove = data2[\"P_vals_glove\"]\n",
        "R_2_voxels_glove = data2[\"R_2_voxels_glove\"]\n",
        "R_2_adj_voxels_glove = data2[\"R_2_adj_voxels_glove\"]\n",
        "\n",
        "with open('bert_3_regs.pkl', 'rb') as f:\n",
        "  P_vals_bert_3,R_2_voxels_bert_3,R_2_adj_voxels_bert_3 = pickle.load(f)"
      ],
      "metadata": {
        "id": "47puod1b2Ikt"
      },
      "execution_count": null,
      "outputs": []
    },
    {
      "cell_type": "code",
      "source": [
        "print_results(P_vals_glove,R_2_voxels_glove,R_2_adj_voxels_glove, 'GloVE Exp2')"
      ],
      "metadata": {
        "colab": {
          "base_uri": "https://localhost:8080/"
        },
        "id": "6ZKPXzWai5OD",
        "outputId": "b4e5dbda-09ee-40ba-d178-5137dd8892c0"
      },
      "execution_count": 65,
      "outputs": [
        {
          "output_type": "stream",
          "name": "stdout",
          "text": [
            "Analysis for: GloVE Exp2\n",
            "Voxel Analysis:\n",
            "Significantly associated voxels (%): 15.98\n",
            "Non-NaN p-values (%): 99.93\n",
            "Mean p-value: 0.3153\n",
            "Standard Deviation of p-values: 0.2595\n",
            "\n",
            "R-squared Analysis:\n",
            "Mean: 0.8028\n",
            "Standard Deviation: 0.0275\n",
            "Non-NaN R-squared (%): 99.93\n",
            "\n",
            "Adjusted R-squared Analysis:\n",
            "Mean: 0.0902\n",
            "Standard Deviation: 0.1269\n",
            "Non-NaN Adjusted R-squared (%): 99.93\n",
            "\n",
            "Significant-Only Analysis: P_Value\n",
            "Mean p-value: 0.0222\n",
            "Standard Deviation of p-values: 0.0146\n",
            "Mean R-squared: 0.8430\n",
            "Standard Deviation of R-squared: 0.0104\n",
            "Mean Adjusted R-squared: 0.2757\n",
            "Standard Deviation of Adjusted R-squared: 0.0480\n",
            "\n",
            "Significant-Only Analysis: R_2_Value\n",
            "Mean p-value: 0.2956\n",
            "Standard Deviation of p-values: 0.2391\n",
            "Mean R-squared: 0.8049\n",
            "Standard Deviation of R-squared: 0.0252\n",
            "Mean Adjusted R-squared: 0.0999\n",
            "Standard Deviation of Adjusted R-squared: 0.1164\n"
          ]
        }
      ]
    },
    {
      "cell_type": "code",
      "source": [
        "def bert_vectors_embedding(data,tokenizer,model):\n",
        "  bert_vectors = []\n",
        "  for s in data:\n",
        "    s = s[0][0].item()\n",
        "    inputs = tokenizer(s, return_tensors=\"pt\")\n",
        "    outputs = model(**inputs)\n",
        "    cls = outputs.last_hidden_state.squeeze()[0].detach().numpy()\n",
        "    bert_vectors.append(cls)\n",
        "  bert_vectors = np.array(bert_vectors)\n",
        "  return bert_vectors"
      ],
      "metadata": {
        "id": "GiT7DM1sWeOi"
      },
      "execution_count": 64,
      "outputs": []
    },
    {
      "cell_type": "code",
      "source": [
        "from transformers import BertTokenizer, BertModel\n",
        "Bert_trained_model = 'prajjwal1/bert-mini'\n",
        "\n",
        "tokenizer = BertTokenizer.from_pretrained(Bert_trained_model)\n",
        "model = BertModel.from_pretrained(Bert_trained_model,output_hidden_states = True,)\n",
        "bert_vectors_exp2 = bert_vectors_embedding(exp2_pkl['keySentences'],tokenizer,model)"
      ],
      "metadata": {
        "id": "Y5cCkAnfMLRy",
        "colab": {
          "base_uri": "https://localhost:8080/"
        },
        "outputId": "8418c3b7-049b-4d18-a2c0-eca2929fbfda"
      },
      "execution_count": 66,
      "outputs": [
        {
          "output_type": "stream",
          "name": "stderr",
          "text": [
            "Some weights of the model checkpoint at prajjwal1/bert-mini were not used when initializing BertModel: ['cls.predictions.transform.LayerNorm.bias', 'cls.seq_relationship.bias', 'cls.predictions.transform.LayerNorm.weight', 'cls.predictions.transform.dense.bias', 'cls.predictions.bias', 'cls.predictions.decoder.bias', 'cls.predictions.transform.dense.weight', 'cls.predictions.decoder.weight', 'cls.seq_relationship.weight']\n",
            "- This IS expected if you are initializing BertModel from the checkpoint of a model trained on another task or with another architecture (e.g. initializing a BertForSequenceClassification model from a BertForPreTraining model).\n",
            "- This IS NOT expected if you are initializing BertModel from the checkpoint of a model that you expect to be exactly identical (initializing a BertForSequenceClassification model from a BertForSequenceClassification model).\n"
          ]
        }
      ]
    },
    {
      "cell_type": "code",
      "source": [
        "P_vals_bert,R_2_voxels_bert,R_2_adj_voxels_bert=calc_regressions(bert_vectors_exp2,exp2_pkl['Fmridata'])"
      ],
      "metadata": {
        "id": "sD0H3jQ4wnjo"
      },
      "execution_count": null,
      "outputs": []
    },
    {
      "cell_type": "code",
      "source": [
        "print_results(P_vals_bert,R_2_voxels_bert,R_2_adj_voxels_bert, \"BERT EXP2\")"
      ],
      "metadata": {
        "colab": {
          "base_uri": "https://localhost:8080/"
        },
        "id": "qIdzZ9RJjmRe",
        "outputId": "6b517849-e60c-443c-f38c-23dfb8f1ef6e"
      },
      "execution_count": 67,
      "outputs": [
        {
          "output_type": "stream",
          "name": "stdout",
          "text": [
            "Analysis for: BERT EXP2\n",
            "Voxel Analysis:\n",
            "Significantly associated voxels (%): 17.25\n",
            "Non-NaN p-values (%): 99.93\n",
            "Mean p-value: 0.3635\n",
            "Standard Deviation of p-values: 0.2940\n",
            "\n",
            "R-squared Analysis:\n",
            "Mean: 0.6866\n",
            "Standard Deviation: 0.0378\n",
            "Non-NaN R-squared (%): 99.93\n",
            "\n",
            "Adjusted R-squared Analysis:\n",
            "Mean: 0.0549\n",
            "Standard Deviation: 0.1139\n",
            "Non-NaN Adjusted R-squared (%): 99.93\n",
            "\n",
            "Significant-Only Analysis: P_Value\n",
            "Mean p-value: 0.0189\n",
            "Standard Deviation of p-values: 0.0149\n",
            "Mean R-squared: 0.7427\n",
            "Standard Deviation of R-squared: 0.0158\n",
            "Mean Adjusted R-squared: 0.2240\n",
            "Standard Deviation of Adjusted R-squared: 0.0477\n",
            "\n",
            "Significant-Only Analysis: R_2_Value\n",
            "Mean p-value: 0.0024\n",
            "Standard Deviation of p-values: 0.0018\n",
            "Mean R-squared: 0.7641\n",
            "Standard Deviation of R-squared: 0.0121\n",
            "Mean Adjusted R-squared: 0.2885\n",
            "Standard Deviation of Adjusted R-squared: 0.0364\n"
          ]
        }
      ]
    },
    {
      "cell_type": "code",
      "source": [
        "from matplotlib.gridspec import SubplotSpec\n",
        "import matplotlib.pyplot as plt\n",
        "\n",
        "def create_subtitle(fig: plt.Figure, grid: SubplotSpec, title: str):\n",
        "    \"Sign sets of subplots with title\"\n",
        "    row = fig.add_subplot(grid)\n",
        "    row.set_title(f'{title}\\n', fontweight='semibold', fontsize=14)\n",
        "    row.set_frame_on(False)\n",
        "    row.axis('off')\n",
        "\n",
        "def plot_results(P_vals,R_2_voxels,R_2_adj_voxels,is_sign, is_R2):\n",
        "    cols = 3 if is_R2 else 2\n",
        "    rows = 2\n",
        "    title =  'Total Results'\n",
        "\n",
        "    if is_sign:\n",
        "        title = 'Significant Results'\n",
        "        p_vals_sign_bool = {}\n",
        "        for k in ['glove', 'bert']:\n",
        "            p_vals_sign_bool[k] = P_vals[k] < 0.05\n",
        "            P_vals[k] = P_vals[k][p_vals_sign_bool[k]]\n",
        "            R_2_voxels[k] = R_2_voxels[k][p_vals_sign_bool[k]]\n",
        "            R_2_adj_voxels[k] = R_2_adj_voxels[k][p_vals_sign_bool[k]]\n",
        "\n",
        "    fig_size = (20, 12) if is_R2 else (16, 12)\n",
        "    fig, axes = plt.subplots(rows, cols, figsize=fig_size, sharex='col')\n",
        "\n",
        "    for ax in axes.ravel():\n",
        "        ax.xaxis.set_tick_params(which='both', labelbottom=True)\n",
        "\n",
        "    plt.suptitle(title, fontsize=16, fontweight='bold')\n",
        "\n",
        "    axes[1][0].hist(P_vals['glove'], bins='auto', color='skyblue', edgecolor='black')\n",
        "    axes[1][0].set_title('P values', fontsize=14)\n",
        "    axes[1][0].set_xlabel('P values', fontsize=12)\n",
        "    axes[1][0].set_ylabel('Frequency', fontsize=12)\n",
        "\n",
        "    axes[1][1].hist(R_2_adj_voxels['glove'], bins='auto', color='skyblue', edgecolor='black')\n",
        "    axes[1][1].set_title(r'Adjusted $R^2$', fontsize=14)\n",
        "    axes[1][1].set_xlabel('Adjusted $R^2$', fontsize=12)\n",
        "    axes[1][1].set_ylabel('Frequency', fontsize=12)\n",
        "\n",
        "    axes[0][0].hist(P_vals['bert'], bins='auto', color='lightcoral', edgecolor='black')\n",
        "    axes[0][0].set_title('P values', fontsize=14)\n",
        "    axes[0][0].set_xlabel('P values', fontsize=12)\n",
        "    axes[0][0].set_ylabel('Frequency', fontsize=12)\n",
        "\n",
        "    axes[0][1].hist(R_2_adj_voxels['bert'], bins='auto', color='lightcoral', edgecolor='black')\n",
        "    axes[0][1].set_title(r'Adjusted $R^2$', fontsize=14)\n",
        "    axes[0][1].set_xlabel('Adjusted $R^2$', fontsize=12)\n",
        "    axes[0][1].set_ylabel('Frequency', fontsize=12)\n",
        "\n",
        "    if is_R2:\n",
        "        axes[1][2].hist(R_2_voxels['glove'], bins='auto', color='skyblue', edgecolor='black')\n",
        "        axes[1][2].set_title(r'$R^2$', fontsize=14)\n",
        "        axes[1][2].set_xlabel(r'$R^2$', fontsize=12)\n",
        "        axes[1][2].set_ylabel('Frequency', fontsize=12)\n",
        "\n",
        "        axes[0][2].hist(R_2_voxels['bert'], bins='auto', color='lightcoral', edgecolor='black')\n",
        "        axes[0][2].set_title(r'$R^2$', fontsize=14)\n",
        "        axes[0][2].set_xlabel(r'$R^2$', fontsize=12)\n",
        "        axes[0][2].set_ylabel('Frequency', fontsize=12)\n",
        "\n",
        "    grid = plt.GridSpec(rows, cols)\n",
        "    create_subtitle(fig, grid[0, ::], 'GloVe based Brain Encoder Results')\n",
        "    create_subtitle(fig, grid[1, ::], 'BERT based Brain Encoder Results')\n",
        "\n"
      ],
      "metadata": {
        "id": "kaprrDoMM72M"
      },
      "execution_count": 68,
      "outputs": []
    },
    {
      "cell_type": "code",
      "source": [
        "P_vals = {'bert':P_vals_bert,'glove':P_vals_glove}\n",
        "R_2_voxels = {'bert':R_2_voxels_bert,'glove':R_2_voxels_glove}\n",
        "R_2_adj_voxels =  {'bert':R_2_adj_voxels_bert,'glove':R_2_adj_voxels_glove}\n",
        "plot_results(P_vals,R_2_voxels,R_2_adj_voxels, True, False)"
      ],
      "metadata": {
        "colab": {
          "base_uri": "https://localhost:8080/",
          "height": 853
        },
        "id": "HcMGf-f0NCLM",
        "outputId": "df0c30fe-04bb-4c15-b173-37edb9ab00d6"
      },
      "execution_count": 69,
      "outputs": [
        {
          "output_type": "display_data",
          "data": {
            "text/plain": [
              "<Figure size 1600x1200 with 6 Axes>"
            ],
            "image/png": "[encoded data removed]"
          },
          "metadata": {}
        }
      ]
    },
    {
      "cell_type": "code",
      "source": [
        "from transformers import BertTokenizer, BertModel\n",
        "Bert_trained_model = 'prajjwal1/bert-mini'\n",
        "tokenizer = BertTokenizer.from_pretrained(\"prajjwal1/bert-mini\")\n",
        "model = BertModel.from_pretrained('prajjwal1/bert-mini',output_hidden_states = True)\n",
        "bert_vectors_exp3 = bert_vectors_embedding(exp3_pkl['keySentences'],tokenizer,model)\n",
        "P_vals_bert_3,R_2_voxels_bert_3,R_2_adj_voxels_bert_3 = calc_regressions(bert_vectors_exp3,exp3_pkl['Fmridata'])\n",
        "print_results(P_vals_bert_3,R_2_voxels_bert_3,R_2_adj_voxels_bert_3, 'BERT EXP3')"
      ],
      "metadata": {
        "id": "Ry9d9CRZNE0D"
      },
      "execution_count": null,
      "outputs": []
    },
    {
      "cell_type": "code",
      "source": [
        "print_results(P_vals_bert_3,R_2_voxels_bert_3,R_2_adj_voxels_bert_3, 'BERT EXP3')"
      ],
      "metadata": {
        "colab": {
          "base_uri": "https://localhost:8080/"
        },
        "id": "MGPSV1gC4wVr",
        "outputId": "94fc67a0-3b02-45f3-bd10-8b9d83d194c8"
      },
      "execution_count": 70,
      "outputs": [
        {
          "output_type": "stream",
          "name": "stdout",
          "text": [
            "Analysis for: BERT EXP3\n",
            "Voxel Analysis:\n",
            "Significantly associated voxels (%): 14.12\n",
            "Non-NaN p-values (%): 100.00\n",
            "Mean p-value: 0.3318\n",
            "Standard Deviation of p-values: 0.2607\n",
            "\n",
            "R-squared Analysis:\n",
            "Mean: 0.5563\n",
            "Standard Deviation: 0.0435\n",
            "Non-NaN R-squared (%): 100.00\n",
            "\n",
            "Adjusted R-squared Analysis:\n",
            "Mean: 0.0582\n",
            "Standard Deviation: 0.0924\n",
            "Non-NaN Adjusted R-squared (%): 100.00\n",
            "\n",
            "Significant-Only Analysis: P_Value\n",
            "Mean p-value: 0.0219\n",
            "Standard Deviation of p-values: 0.0149\n",
            "Mean R-squared: 0.6256\n",
            "Standard Deviation of R-squared: 0.0193\n",
            "Mean Adjusted R-squared: 0.2052\n",
            "Standard Deviation of Adjusted R-squared: 0.0410\n",
            "\n",
            "Significant-Only Analysis: R_2_Value\n",
            "Mean p-value: nan\n",
            "Standard Deviation of p-values: nan\n",
            "Mean R-squared: nan\n",
            "Standard Deviation of R-squared: nan\n",
            "Mean Adjusted R-squared: nan\n",
            "Standard Deviation of Adjusted R-squared: nan\n"
          ]
        },
        {
          "output_type": "stream",
          "name": "stderr",
          "text": [
            "<ipython-input-52-ca93f2fb474c>:33: RuntimeWarning: Mean of empty slice\n",
            "  print(\"Mean p-value: {:.4f}\".format(np.nanmean(P_vals[R_2_vals_sign])))\n",
            "<ipython-input-52-ca93f2fb474c>:36: RuntimeWarning: Mean of empty slice\n",
            "  print(\"Mean R-squared: {:.4f}\".format(np.nanmean(R_2_voxels[R_2_vals_sign])))\n",
            "<ipython-input-52-ca93f2fb474c>:39: RuntimeWarning: Mean of empty slice\n",
            "  print(\"Mean Adjusted R-squared: {:.4f}\".format(np.nanmean(R_2_adj_voxels[R_2_vals_sign])))\n"
          ]
        }
      ]
    },
    {
      "cell_type": "code",
      "source": [
        "import pandas as pd\n",
        "import numpy as np\n",
        "import os\n",
        "import pickle\n",
        "\n",
        "# Define function to read matrix\n",
        "def read_matrix(file_path, sep=\" \"):\n",
        "    with open(file_path, 'r') as f:\n",
        "        lines = f.read().splitlines()\n",
        "    # Remove empty lines and strip leading/trailing whitespaces\n",
        "    lines = [line.strip() for line in lines if line.strip()]\n",
        "    # Split each line into parts, filter out empty strings, and convert each part to a float\n",
        "    float_data = [[float(part) for part in line.split(sep) if part] for line in lines]\n",
        "    return np.array(float_data)\n",
        "\n",
        "\n",
        "\n",
        "# Directory where data files are stored\n",
        "data_dir = GDRIVE_DIR\n",
        "\n",
        "# Load Exp 1 data\n",
        "exp1_file = os.path.join(data_dir, 'neuralData_for_EXP1.csv')\n",
        "data_exp1 = pd.read_csv(exp1_file)\n",
        "data_exp1.drop(columns=['Unnamed: 0'], inplace=True)\n",
        "data_exp1 = np.array(data_exp1)\n",
        "\n",
        "\n",
        "# Load Exp 1 concepts\n",
        "concepts_exp1 = np.genfromtxt('stimuli_180concepts.txt', dtype=np.dtype('U'))\n",
        "\n",
        "# Load GloVe vectors for Exp 1\n",
        "glove_vectors_exp1_file = \"vectors_180concepts.GV42B300.txt\"\n",
        "GLOVE_vectors_exp1 = read_matrix(glove_vectors_exp1_file, sep=\" \")\n",
        "\n",
        "# Load Exp 2 data\n",
        "exp2_file = os.path.join(data_dir, 'EXP2.pkl')\n",
        "with open(exp2_file, 'rb') as f:\n",
        "    exp2_pkl = pickle.load(f)\n",
        "\n",
        "# Load sentence averages for Exp 2\n",
        "avg_sen_2_file = os.path.join(data_dir, 'vectors_384sentences.GV42B300.average.txt')\n",
        "avg_sen_2 = read_matrix(avg_sen_2_file, sep=\" \")\n",
        "\n",
        "# Load Exp 3 data\n",
        "exp3_file = os.path.join(data_dir, 'EXP3.pkl')\n",
        "with open(exp3_file, 'rb') as f:\n",
        "    exp3_pkl = pickle.load(f)\n",
        "\n",
        "# Load sentence averages for Exp 3\n",
        "avg_sen_3_file = os.path.join(data_dir, 'vectors_243sentences.GV42B300.average.txt')\n",
        "avg_sen_3 = read_matrix(avg_sen_3_file, sep=\" \")\n"
      ],
      "metadata": {
        "id": "RkhrHG_9DsR0"
      },
      "execution_count": 71,
      "outputs": []
    },
    {
      "cell_type": "code",
      "source": [
        "def compute_cosine_similarity(vec_a: np.ndarray, vec_b: np.ndarray) -> float:\n",
        "    return np.dot(vec_a, vec_b) / (np.sqrt(np.dot(vec_a, vec_a)) * np.sqrt(np.dot(vec_b, vec_b)))\n",
        "\n",
        "def interpret_sentence_data_filtered (given_decoder, input_data, avg_sentence, p_values):\n",
        "  mask = p_values < 0.05\n",
        "  position_tracker = []\n",
        "  rank_accumulator = 0\n",
        "  unique_categories = list(set([x[0] for x in input_data['keyPassageCategory'][0]]))\n",
        "  unique_subcategories = list(set([x[0][0] for x in input_data['keyPassages']]))\n",
        "  category_accuracy_mapping = {k:[] for k in unique_categories}\n",
        "  subcategory_accuracy_mapping = {k:[] for k in unique_subcategories}\n",
        "\n",
        "  for index, voxel_data in enumerate(input_data['Fmridata']):\n",
        "    decoded_result = np.dot(given_decoder, voxel_data[mask])\n",
        "    correct_vector = avg_sentence[index]\n",
        "    cos_similarity_mapping = {i: compute_cosine_similarity(decoded_result, v) for i, v in enumerate(avg_sentence)}\n",
        "    cos_similarity_mapping = dict(sorted(cos_similarity_mapping.items(), key=lambda item: -item[1]))\n",
        "    correct_concept_position = list(cos_similarity_mapping.keys()).index(index) + 1\n",
        "    position_tracker.append(correct_concept_position)\n",
        "    rank_accumulator += correct_concept_position\n",
        "\n",
        "    identified_passage = input_data['labelsPassageForEachSentence'][index].item() - 1\n",
        "    subcategory_data = input_data['keyPassages'][identified_passage][0][0]\n",
        "    topic_identifier = input_data['labelsPassageCategory'][identified_passage].item() - 1\n",
        "    category_data = input_data['keyPassageCategory'][0][topic_identifier][0]\n",
        "\n",
        "    category_accuracy_mapping[category_data].append(correct_concept_position)\n",
        "    subcategory_accuracy_mapping[subcategory_data].append(correct_concept_position)\n",
        "\n",
        "  category_accuracy_mapping = {k: np.mean(v) for k, v in category_accuracy_mapping.items()}\n",
        "  subcategory_accuracy_mapping = {k: np.mean(v) for k, v in subcategory_accuracy_mapping.items()}\n",
        "\n",
        "  return np.mean(position_tracker), category_accuracy_mapping, subcategory_accuracy_mapping\n",
        "\n",
        "def concept_decoding_filtered(given_decoder, input_data, thought_array, thought_vector, p_values):\n",
        "  mask = p_values < 0.05\n",
        "  accuracy_mapping = {}\n",
        "  rank_tracker = []\n",
        "  for index, voxel_data in enumerate(input_data):\n",
        "    decoded_result = np.dot(given_decoder, voxel_data[mask])\n",
        "    correct_vector, correct_thought = thought_vector[index], thought_array[index]\n",
        "    cos_similarity_mapping = {i: compute_cosine_similarity(decoded_result, v) for i, v in enumerate(thought_vector)}\n",
        "    cos_similarity_mapping = dict(sorted(cos_similarity_mapping.items(), key=lambda item: -item[1]))\n",
        "    correct_thought_position = list(cos_similarity_mapping.keys()).index(index) + 1\n",
        "    accuracy_mapping[correct_thought] = correct_thought_position\n",
        "    rank_tracker.append(correct_thought_position)\n",
        "  return np.mean(rank_tracker), accuracy_mapping\n",
        "\n",
        "def interpret_sentence_data(given_decoder, input_data, avg_sentence):\n",
        "  position_tracker = []\n",
        "  rank_accumulator = 0\n",
        "  unique_categories = list(set([x[0] for x in input_data['keyPassageCategory'][0]]))\n",
        "  unique_subcategories = list(set([x[0][0] for x in input_data['keyPassages']]))\n",
        "  category_accuracy_mapping = {k:[] for k in unique_categories}\n",
        "  subcategory_accuracy_mapping = {k:[] for k in unique_subcategories}\n",
        "\n",
        "  for index, voxel_data in enumerate(input_data['Fmridata']):\n",
        "    decoded_result = np.dot(given_decoder, voxel_data)\n",
        "    correct_vector = avg_sentence[index]\n",
        "    cos_similarity_mapping = {i: compute_cosine_similarity(decoded_result, v) for i, v in enumerate(avg_sentence)}\n",
        "    cos_similarity_mapping = dict(sorted(cos_similarity_mapping.items(), key=lambda item: -item[1]))\n",
        "    correct_concept_position = list(cos_similarity_mapping.keys()).index(index) + 1\n",
        "    position_tracker.append(correct_concept_position)\n",
        "    rank_accumulator += correct_concept_position\n",
        "\n",
        "    identified_passage = input_data['labelsPassageForEachSentence'][index].item() - 1\n",
        "    subcategory_data = input_data['keyPassages'][identified_passage][0][0]\n",
        "    topic_identifier = input_data['labelsPassageCategory'][identified_passage].item() - 1\n",
        "    category_data = input_data['keyPassageCategory'][0][topic_identifier][0]\n",
        "\n",
        "    category_accuracy_mapping[category_data].append(correct_concept_position)\n",
        "    subcategory_accuracy_mapping[subcategory_data].append(correct_concept_position)\n",
        "\n",
        "  category_accuracy_mapping = {k: np.mean(v) for k, v in category_accuracy_mapping.items()}\n",
        "  subcategory_accuracy_mapping = {k: np.mean(v) for k, v in subcategory_accuracy_mapping.items()}\n",
        "\n",
        "  return np.mean(position_tracker), category_accuracy_mapping, subcategory_accuracy_mapping\n",
        "\n",
        "def concept_decoding(given_decoder, input_data, thought_array, thought_vector):\n",
        "  accuracy_mapping = {}\n",
        "  rank_tracker = []\n",
        "  for index, voxel_data in enumerate(input_data):\n",
        "    decoded_result = np.dot(given_decoder, voxel_data)\n",
        "    correct_vector, correct_thought = thought_vector[index], thought_array[index]\n",
        "    cos_similarity_mapping = {i: compute_cosine_similarity(decoded_result, v) for i, v in enumerate(thought_vector)}\n",
        "    cos_similarity_mapping = dict(sorted(cos_similarity_mapping.items(), key=lambda item: -item[1]))\n",
        "    correct_thought_position = list(cos_similarity_mapping.keys()).index(index) + 1\n",
        "    accuracy_mapping[correct_thought] = correct_thought_position\n",
        "    rank_tracker.append(correct_thought_position)\n",
        "  return np.mean(rank_tracker), accuracy_mapping\n",
        "\n",
        "def extract_topics(input_data):\n",
        "    collected_topics = []\n",
        "    collected_subtopics = []\n",
        "    for index, _ in enumerate(input_data['Fmridata']):\n",
        "        passage_index = input_data['labelsPassageForEachSentence'][index].item() - 1\n",
        "        subtopic_info = input_data['keyPassages'][passage_index][0][0]\n",
        "        topic_index = input_data['labelsPassageCategory'][passage_index].item() - 1\n",
        "        topic_info = input_data['keyPassageCategory'][0][topic_index][0]\n",
        "\n",
        "        if subtopic_info not in collected_subtopics:\n",
        "            collected_subtopics.append(subtopic_info)\n",
        "        if topic_info not in collected_topics:\n",
        "            collected_topics.append(topic_info)\n",
        "    return collected_topics, collected_subtopics\n"
      ],
      "metadata": {
        "id": "jwBmc4a-5Jpu"
      },
      "execution_count": 72,
      "outputs": []
    },
    {
      "cell_type": "markdown",
      "source": [
        "# Training on Exp2 and evaluations on Exp1, Exp3"
      ],
      "metadata": {
        "id": "jW_4DT0FHs9z"
      }
    },
    {
      "cell_type": "code",
      "source": [
        "p_val_threshold = 0.05\n",
        "significant_voxels_mask_glove = P_vals_glove < p_val_threshold\n",
        "significant_voxels_mask_bert = P_vals_bert < p_val_threshold\n",
        "significant_voxels_mask_bert_ex3 = P_vals_bert_3 < p_val_threshold"
      ],
      "metadata": {
        "id": "piaDMom1XQys"
      },
      "execution_count": 84,
      "outputs": []
    },
    {
      "cell_type": "code",
      "source": [
        "from transformers import BertTokenizer, BertModel\n",
        "\n",
        "# Initialize tokenizer and model\n",
        "tokenizer = BertTokenizer.from_pretrained(\"prajjwal1/bert-mini\")\n",
        "model = BertModel.from_pretrained('prajjwal1/bert-mini', output_hidden_states=True)\n",
        "\n",
        "def extract_bert_embeddings(data, tokenizer, model, exp1_flag=0):\n",
        "    \"\"\"\n",
        "    Extract BERT embeddings for the provided data\n",
        "    \"\"\"\n",
        "    bert_embeddings = []\n",
        "    flag = isinstance(data[0], np.ndarray)\n",
        "\n",
        "    for item in data:\n",
        "        item = item[0][0].item() if flag else item\n",
        "        inputs = tokenizer(item, return_tensors=\"pt\")\n",
        "        outputs = model(**inputs)\n",
        "        cls_token = outputs.last_hidden_state.squeeze()[exp1_flag].detach().numpy()\n",
        "        bert_embeddings.append(cls_token)\n",
        "\n",
        "    return np.array(bert_embeddings)\n",
        "\n",
        "# Extract BERT embeddings for each exp\n",
        "bert_embeddings_exp1 = extract_bert_embeddings(concepts_exp1, tokenizer, model, 1)\n",
        "bert_embeddings_exp2 = extract_bert_embeddings(exp2_pkl['keySentences'], tokenizer, model)\n",
        "bert_embeddings_exp3 = extract_bert_embeddings(exp3_pkl['keySentences'], tokenizer, model)"
      ],
      "metadata": {
        "colab": {
          "base_uri": "https://localhost:8080/"
        },
        "id": "0zOLWHryAmpQ",
        "outputId": "2fb1714f-732c-4fb7-bd09-63fb6c047783"
      },
      "execution_count": 74,
      "outputs": [
        {
          "output_type": "stream",
          "name": "stderr",
          "text": [
            "Some weights of the model checkpoint at prajjwal1/bert-mini were not used when initializing BertModel: ['cls.predictions.transform.LayerNorm.bias', 'cls.seq_relationship.bias', 'cls.predictions.transform.LayerNorm.weight', 'cls.predictions.transform.dense.bias', 'cls.predictions.bias', 'cls.predictions.decoder.bias', 'cls.predictions.transform.dense.weight', 'cls.predictions.decoder.weight', 'cls.seq_relationship.weight']\n",
            "- This IS expected if you are initializing BertModel from the checkpoint of a model trained on another task or with another architecture (e.g. initializing a BertForSequenceClassification model from a BertForPreTraining model).\n",
            "- This IS NOT expected if you are initializing BertModel from the checkpoint of a model that you expect to be exactly identical (initializing a BertForSequenceClassification model from a BertForSequenceClassification model).\n"
          ]
        }
      ]
    },
    {
      "cell_type": "markdown",
      "source": [
        "## GLoVE WITH MASK"
      ],
      "metadata": {
        "id": "qqNAfw9YkSvj"
      }
    },
    {
      "cell_type": "code",
      "source": [
        "# Establish the GloVe decoder for exp 2\n",
        "exp2_decoder_glove = learn_decoder(exp2_pkl['Fmridata'], avg_sen_2).T\n",
        "exp2_decoder_glove = exp2_decoder_glove[:, significant_voxels_mask_glove]\n",
        "# Decoding sentences for exp 3\n",
        "exp3_glv_accuracy, exp3_glv_topic_acc, exp3_glv_subtopic_acc = interpret_sentence_data_filtered(exp2_decoder_glove, exp3_pkl, avg_sen_3, P_vals_glove)\n",
        "\n",
        "# Decoding concepts for exp 1\n",
        "exp1_glv_accuracy, exp1_glv_concepts_acc = concept_decoding_filtered(exp2_decoder_glove, data_exp1, concepts_exp1,GLOVE_vectors_exp1, P_vals_glove)\n",
        "\n",
        "# Decoding sentences for exp 2\n",
        "exp2_glv_accuracy, exp2_glv_topic_acc, exp2_glv_subtopic_acc = interpret_sentence_data_filtered(exp2_decoder_glove, exp2_pkl, avg_sen_2, P_vals_glove)"
      ],
      "metadata": {
        "id": "Gufh4fBF9cJQ"
      },
      "execution_count": 75,
      "outputs": []
    },
    {
      "cell_type": "markdown",
      "source": [
        "## BERT WITH MASK"
      ],
      "metadata": {
        "id": "eiQ03o8dkL0A"
      }
    },
    {
      "cell_type": "code",
      "source": [
        "# Create the sentence decoder for experiment 2 using BERT vectors\n",
        "sentence_decoder_exp2_bert = learn_decoder(exp2_pkl['Fmridata'], bert_embeddings_exp2).T\n",
        "sentence_decoder_exp2_bert = sentence_decoder_exp2_bert[:, significant_voxels_mask_bert]\n",
        "\n",
        "# Interpret the sentence data for experiment 3 using the created decoder\n",
        "accuracy_exp3_bert, topic_acc_exp3_bert, subtopic_acc_exp3_bert = interpret_sentence_data_filtered(\n",
        "    sentence_decoder_exp2_bert, exp3_pkl, bert_embeddings_exp3, P_vals_bert\n",
        ")\n",
        "\n",
        "# Interpret the thought data for experiment 1 using the created decoder\n",
        "accuracy_exp1_bert, concepts_acc_exp1_bert = concept_decoding_filtered(\n",
        "    sentence_decoder_exp2_bert, data_exp1, concepts_exp1, bert_embeddings_exp1, P_vals_bert\n",
        ")\n",
        "\n",
        "# Interpret the sentence data for experiment 2 using the created decoder\n",
        "accuracy_exp2_bert, topic_acc_exp2_bert, subtopic_acc_exp2_bert = interpret_sentence_data_filtered(\n",
        "    sentence_decoder_exp2_bert, exp2_pkl, bert_embeddings_exp2, P_vals_bert\n",
        ")\n"
      ],
      "metadata": {
        "id": "KovjgaThAur6"
      },
      "execution_count": 76,
      "outputs": []
    },
    {
      "cell_type": "code",
      "source": [
        "print(\"Training on: Exp2\")\n",
        "print(\"Testing on: Exp1, Exp3\")\n",
        "print()\n",
        "\n",
        "print(\"Normalized average accuracies - \")\n",
        "print(f'Accuracy GloVe on Exp1: {exp1_glv_accuracy/180}, Accuracy Bert on Exp1: {accuracy_exp1_bert/180}')\n",
        "print(f'Accuracy GloVe on Exp2: {exp2_glv_accuracy/384}, Accuracy Bert on Exp2: {accuracy_exp2_bert/384}')\n",
        "print(f'Accuracy GloVe on Exp3: {exp3_glv_accuracy/243}, Accuracy Bert on Exp3: {accuracy_exp3_bert/243}')\n",
        "\n",
        "print(\"Raw average accuracies - \")\n",
        "print(f'Accuracy GloVe on Exp1: {exp1_glv_accuracy}, Accuracy Bert on Exp1: {accuracy_exp1_bert}')\n",
        "print(f'Accuracy GloVe on Exp2: {exp2_glv_accuracy}, Accuracy Bert on Exp2: {accuracy_exp2_bert}')\n",
        "print(f'Accuracy GloVe on Exp3: {exp3_glv_accuracy}, Accuracy Bert on Exp3: {accuracy_exp3_bert}')\n",
        "\n",
        "print()\n",
        "\n",
        "# Sorting topics and concepts based on accuracy\n",
        "topic_acc_exp3_glv_sorted = sorted(exp3_glv_topic_acc.items(), key=lambda item: item[1])\n",
        "topic_acc_exp3_bert_sorted = sorted(topic_acc_exp3_bert.items(), key=lambda item: item[1])\n",
        "concepts_acc_exp1_bert_sorted = sorted(concepts_acc_exp1_bert.items(), key=lambda item: item[1])\n",
        "concepts_acc_exp1_glv_sorted = sorted(exp1_glv_concepts_acc.items(), key=lambda item: item[1])\n",
        "\n",
        "n=8\n",
        "\n",
        "# Printing the top and bottom n topics/concepts based on accuracy\n",
        "print('Best Decoded Topics')\n",
        "print('For Exp3 and GloVe:')\n",
        "print(topic_acc_exp3_glv_sorted[0:n])\n",
        "print('For Exp3 and Bert:')\n",
        "print(topic_acc_exp3_bert_sorted[0:n])\n",
        "print('For Exp1 and GloVe:')\n",
        "print(concepts_acc_exp1_glv_sorted[0:n])\n",
        "print('For Exp1 and Bert:')\n",
        "print(concepts_acc_exp1_bert_sorted[0:n])\n",
        "print()\n",
        "print('Worst Decoded Topics')\n",
        "print('For Exp3 and GloVe:')\n",
        "print(topic_acc_exp3_glv_sorted[-n:])\n",
        "print('For Exp3 and Bert:')\n",
        "print(topic_acc_exp3_bert_sorted[-n:])\n",
        "print('For Exp1 and GloVe:')\n",
        "print(concepts_acc_exp1_glv_sorted[-n:])\n",
        "print('For Exp1 and Bert:')\n",
        "print(concepts_acc_exp1_bert_sorted[-n:])\n",
        "print()\n"
      ],
      "metadata": {
        "id": "Wd4wEAmiEUx5",
        "colab": {
          "base_uri": "https://localhost:8080/"
        },
        "outputId": "bdc30832-54e6-45b4-d813-eb5e46244cd4"
      },
      "execution_count": 77,
      "outputs": [
        {
          "output_type": "stream",
          "name": "stdout",
          "text": [
            "Training on: Exp2\n",
            "Testing on: Exp1, Exp3\n",
            "\n",
            "Normalized average accuracies - \n",
            "Accuracy GloVe on Exp1: 0.4169135802469136, Accuracy Bert on Exp1: 0.4559876543209877\n",
            "Accuracy GloVe on Exp2: 0.004584418402777778, Accuracy Bert on Exp2: 0.013936360677083334\n",
            "Accuracy GloVe on Exp3: 0.3080492472353469, Accuracy Bert on Exp3: 0.3168216227201138\n",
            "Raw average accuracies - \n",
            "Accuracy GloVe on Exp1: 75.04444444444445, Accuracy Bert on Exp1: 82.07777777777778\n",
            "Accuracy GloVe on Exp2: 1.7604166666666667, Accuracy Bert on Exp2: 5.3515625\n",
            "Accuracy GloVe on Exp3: 74.8559670781893, Accuracy Bert on Exp3: 76.98765432098766\n",
            "\n",
            "Best Decoded Topics\n",
            "For Exp3 and GloVe:\n",
            "[('ice_cream', 11.8), ('law_school', 36.8), ('taste', 40.333333333333336), ('dreams', 43.8), ('beekeeping', 48.81818181818182), ('lawn_mower', 50.7), ('gambling', 51.7), ('polar_bear', 51.8)]\n",
            "For Exp3 and Bert:\n",
            "[('lawn_mower', 27.6), ('polar_bear', 28.5), ('beekeeping', 36.45454545454545), ('ice_cream', 47.1), ('rock_climbing', 49.63636363636363), ('pyramid', 54.6), ('taste', 55.77777777777778), ('computer_graphics', 62.9)]\n",
            "For Exp1 and GloVe:\n",
            "[('fish', 1), ('sugar', 1), ('ball', 2), ('money', 2), ('big', 3), ('pig', 3), ('shape', 4), ('texture', 4)]\n",
            "For Exp1 and Bert:\n",
            "[('gun', 1), ('shape', 1), ('tree', 1), ('bear', 2), ('camera', 2), ('device', 2), ('mountain', 2), ('apartment', 3)]\n",
            "\n",
            "Worst Decoded Topics\n",
            "For Exp3 and GloVe:\n",
            "[('rock_climbing', 92.54545454545455), ('skiing', 95.6), ('stress', 97.5), ('opera', 100.18181818181819), ('computer_graphics', 107.7), ('castle', 109.2), ('blindness', 110.1), ('bone_fracture', 114.54545454545455)]\n",
            "For Exp3 and Bert:\n",
            "[('law_school', 92.1), ('skiing', 93.6), ('castle', 98.1), ('opera', 103.45454545454545), ('dreams', 110.6), ('bone_fracture', 118.36363636363636), ('blindness', 122.6), ('gambling', 123.5)]\n",
            "For Exp1 and GloVe:\n",
            "[('student', 166), ('willingly', 167), ('disturb', 171), ('doctor', 171), ('mathematical', 175), ('usable', 175), ('argumentatively', 177), ('deceive', 179)]\n",
            "For Exp1 and Bert:\n",
            "[('table', 168), ('quality', 169), ('dedication', 170), ('solution', 172), ('cockroach', 177), ('deceive', 177), ('argumentatively', 179), ('sew', 179)]\n",
            "\n"
          ]
        }
      ]
    },
    {
      "cell_type": "markdown",
      "source": [
        "## GloVE WITHOUT MASK"
      ],
      "metadata": {
        "id": "6e_VdW9Dkcie"
      }
    },
    {
      "cell_type": "code",
      "source": [
        "# Establish the GloVe decoder for exp 2\n",
        "exp2_decoder_glove = learn_decoder(exp2_pkl['Fmridata'], avg_sen_2).T\n",
        "# Decoding sentences for exp 3\n",
        "exp3_glv_accuracy, exp3_glv_topic_acc, exp3_glv_subtopic_acc = interpret_sentence_data(exp2_decoder_glove, exp3_pkl, avg_sen_3)\n",
        "\n",
        "# Decoding concepts for exp 1\n",
        "exp1_glv_accuracy, exp1_glv_concepts_acc = concept_decoding(exp2_decoder_glove, data_exp1, concepts_exp1,GLOVE_vectors_exp1)\n",
        "\n",
        "# Decoding sentences for exp 2\n",
        "exp2_glv_accuracy, exp2_glv_topic_acc, exp2_glv_subtopic_acc = interpret_sentence_data(exp2_decoder_glove, exp2_pkl, avg_sen_2)"
      ],
      "metadata": {
        "id": "UStu0ygeiPFF"
      },
      "execution_count": 78,
      "outputs": []
    },
    {
      "cell_type": "markdown",
      "source": [
        "## BERT WITHOUT MASK"
      ],
      "metadata": {
        "id": "rWfty54_kJfc"
      }
    },
    {
      "cell_type": "code",
      "source": [
        "# Create the sentence decoder for experiment 2 using BERT vectors\n",
        "sentence_decoder_exp2_bert = learn_decoder(exp2_pkl['Fmridata'], bert_embeddings_exp2).T\n",
        "\n",
        "# Interpret the sentence data for experiment 3 using the created decoder\n",
        "accuracy_exp3_bert, topic_acc_exp3_bert, subtopic_acc_exp3_bert = interpret_sentence_data(\n",
        "    sentence_decoder_exp2_bert, exp3_pkl, bert_embeddings_exp3\n",
        ")\n",
        "\n",
        "# Interpret the thought data for experiment 1 using the created decoder\n",
        "accuracy_exp1_bert, concepts_acc_exp1_bert = concept_decoding(\n",
        "    sentence_decoder_exp2_bert, data_exp1, concepts_exp1, bert_embeddings_exp1\n",
        ")\n",
        "\n",
        "# Interpret the sentence data for experiment 2 using the created decoder\n",
        "accuracy_exp2_bert, topic_acc_exp2_bert, subtopic_acc_exp2_bert = interpret_sentence_data(\n",
        "    sentence_decoder_exp2_bert, exp2_pkl, bert_embeddings_exp2)"
      ],
      "metadata": {
        "id": "_0bjAde-hyFg"
      },
      "execution_count": 79,
      "outputs": []
    },
    {
      "cell_type": "code",
      "source": [
        "print(\"Training on: Exp2\")\n",
        "print(\"Testing on: Exp1, Exp3\")\n",
        "print()\n",
        "\n",
        "print(\"Normalized average accuracies - \")\n",
        "print(f'Accuracy GloVe on Exp1: {exp1_glv_accuracy/180}, Accuracy Bert on Exp1: {accuracy_exp1_bert/180}')\n",
        "print(f'Accuracy GloVe on Exp2: {exp2_glv_accuracy/384}, Accuracy Bert on Exp2: {accuracy_exp2_bert/384}')\n",
        "print(f'Accuracy GloVe on Exp3: {exp3_glv_accuracy/243}, Accuracy Bert on Exp3: {accuracy_exp3_bert/243}')\n",
        "\n",
        "print(\"Raw average accuracies - \")\n",
        "print(f'Accuracy GloVe on Exp1: {exp1_glv_accuracy}, Accuracy Bert on Exp1: {accuracy_exp1_bert}')\n",
        "print(f'Accuracy GloVe on Exp2: {exp2_glv_accuracy}, Accuracy Bert on Exp2: {accuracy_exp2_bert}')\n",
        "print(f'Accuracy GloVe on Exp3: {exp3_glv_accuracy}, Accuracy Bert on Exp3: {accuracy_exp3_bert}')\n",
        "\n",
        "print()\n",
        "\n",
        "# Sorting topics and concepts based on accuracy\n",
        "topic_acc_exp3_glv_sorted = sorted(exp3_glv_topic_acc.items(), key=lambda item: item[1])\n",
        "topic_acc_exp3_bert_sorted = sorted(topic_acc_exp3_bert.items(), key=lambda item: item[1])\n",
        "concepts_acc_exp1_bert_sorted = sorted(concepts_acc_exp1_bert.items(), key=lambda item: item[1])\n",
        "concepts_acc_exp1_glv_sorted = sorted(exp1_glv_concepts_acc.items(), key=lambda item: item[1])\n",
        "\n",
        "n=8\n",
        "\n",
        "# Printing the top and bottom n topics/concepts based on accuracy\n",
        "print('Best Decoded Topics')\n",
        "print('For Exp3 and GloVe:')\n",
        "print(topic_acc_exp3_glv_sorted[0:n])\n",
        "print('For Exp3 and Bert:')\n",
        "print(topic_acc_exp3_bert_sorted[0:n])\n",
        "print('For Exp1 and GloVe:')\n",
        "print(concepts_acc_exp1_glv_sorted[0:n])\n",
        "print('For Exp1 and Bert:')\n",
        "print(concepts_acc_exp1_bert_sorted[0:n])\n",
        "print()\n",
        "print('Worst Decoded Topics')\n",
        "print('For Exp3 and GloVe:')\n",
        "print(topic_acc_exp3_glv_sorted[-n:])\n",
        "print('For Exp3 and Bert:')\n",
        "print(topic_acc_exp3_bert_sorted[-n:])\n",
        "print('For Exp1 and GloVe:')\n",
        "print(concepts_acc_exp1_glv_sorted[-n:])\n",
        "print('For Exp1 and Bert:')\n",
        "print(concepts_acc_exp1_bert_sorted[-n:])\n",
        "print()\n"
      ],
      "metadata": {
        "colab": {
          "base_uri": "https://localhost:8080/"
        },
        "id": "VlEO8DWjC_bY",
        "outputId": "1420dcb6-99f0-4443-ca11-cfd994a108e6"
      },
      "execution_count": 80,
      "outputs": [
        {
          "output_type": "stream",
          "name": "stdout",
          "text": [
            "Training on: Exp2\n",
            "Testing on: Exp1, Exp3\n",
            "\n",
            "Normalized average accuracies - \n",
            "Accuracy GloVe on Exp1: 0.4446913580246914, Accuracy Bert on Exp1: 0.4633024691358025\n",
            "Accuracy GloVe on Exp2: 0.0026109483506944445, Accuracy Bert on Exp2: 0.0026041666666666665\n",
            "Accuracy GloVe on Exp3: 0.38847397923758237, Accuracy Bert on Exp3: 0.38244508797778115\n",
            "Raw average accuracies - \n",
            "Accuracy GloVe on Exp1: 80.04444444444445, Accuracy Bert on Exp1: 83.39444444444445\n",
            "Accuracy GloVe on Exp2: 1.0026041666666667, Accuracy Bert on Exp2: 1.0\n",
            "Accuracy GloVe on Exp3: 94.39917695473251, Accuracy Bert on Exp3: 92.93415637860082\n",
            "\n",
            "Best Decoded Topics\n",
            "For Exp3 and GloVe:\n",
            "[('polar_bear', 34.1), ('taste', 50.44444444444444), ('ice_cream', 57.5), ('dreams', 68.4), ('law_school', 71.7), ('hurricane', 78.3), ('painter', 79.8), ('infection', 84.0)]\n",
            "For Exp3 and Bert:\n",
            "[('beekeeping', 32.63636363636363), ('polar_bear', 32.9), ('lawn_mower', 34.6), ('taste', 51.55555555555556), ('infection', 51.6), ('rock_climbing', 63.81818181818182), ('tuxedo', 79.5), ('ice_cream', 85.5)]\n",
            "For Exp1 and GloVe:\n",
            "[('do', 1), ('great', 2), ('time', 2), ('big', 4), ('help', 4), ('money', 5), ('extremely', 8), ('dog', 9)]\n",
            "For Exp1 and Bert:\n",
            "[('tree', 1), ('typical', 1), ('mountain', 2), ('shape', 2), ('bear', 3), ('dog', 4), ('wear', 8), ('device', 10)]\n",
            "\n",
            "Worst Decoded Topics\n",
            "For Exp3 and GloVe:\n",
            "[('pyramid', 109.0), ('owl', 109.5), ('bone_fracture', 113.63636363636364), ('pharmacist', 118.5), ('opera', 121.0), ('tuxedo', 131.3), ('blindness', 138.3), ('beekeeping', 143.36363636363637)]\n",
            "For Exp3 and Bert:\n",
            "[('castle', 110.3), ('blindness', 117.7), ('skiing', 119.8), ('painter', 130.1), ('gambling', 136.6), ('dreams', 138.3), ('opera', 140.36363636363637), ('law_school', 141.8)]\n",
            "For Exp1 and GloVe:\n",
            "[('disturb', 173), ('dissolve', 174), ('liar', 174), ('electron', 175), ('applause', 176), ('cockroach', 179), ('deceive', 179), ('argumentatively', 180)]\n",
            "For Exp1 and Bert:\n",
            "[('nation', 170), ('driver', 172), ('election', 175), ('investigation', 176), ('cockroach', 177), ('deceive', 178), ('argumentatively', 179), ('sew', 180)]\n",
            "\n"
          ]
        }
      ]
    },
    {
      "cell_type": "markdown",
      "source": [
        "# Training on Exp3 and evaluations on Exp1, Exp2\n",
        "\n",
        "# GloVe WITH MASK"
      ],
      "metadata": {
        "id": "xseAJ-UuGewN"
      }
    },
    {
      "cell_type": "code",
      "source": [
        "# Establish the GloVe decoder for exp 2\n",
        "exp3_decoder_glove = learn_decoder(exp3_pkl['Fmridata'], avg_sen_3).T\n",
        "exp3_decoder_glove = exp3_decoder_glove[:, significant_voxels_mask_glove]\n",
        "\n",
        "# Decoding sentences for exp 3\n",
        "exp3_glv_accuracy, exp3_glv_topic_acc, exp3_glv_subtopic_acc = interpret_sentence_data_filtered(exp3_decoder_glove, exp3_pkl, avg_sen_3, P_vals_glove)\n",
        "\n",
        "# Decoding concepts for exp 1\n",
        "exp1_glv_accuracy, exp1_glv_concepts_acc = concept_decoding_filtered(exp3_decoder_glove, data_exp1, concepts_exp1,GLOVE_vectors_exp1, P_vals_glove)\n",
        "\n",
        "# Decoding sentences for exp 2\n",
        "exp2_glv_accuracy, exp2_glv_topic_acc, exp2_glv_subtopic_acc = interpret_sentence_data_filtered(exp3_decoder_glove, exp2_pkl, avg_sen_2, P_vals_glove)"
      ],
      "metadata": {
        "id": "b3gF9wcLGgi4"
      },
      "execution_count": 82,
      "outputs": []
    },
    {
      "cell_type": "markdown",
      "source": [
        "## BERT WITH MASK"
      ],
      "metadata": {
        "id": "CQ8M0PqWj_ki"
      }
    },
    {
      "cell_type": "code",
      "source": [
        "# Create the sentence decoder for experiment 2 using BERT vectors\n",
        "sentence_decoder_exp3_bert = learn_decoder(exp3_pkl['Fmridata'], bert_embeddings_exp3).T\n",
        "sentence_decoder_exp3_bert = sentence_decoder_exp3_bert[:, significant_voxels_mask_bert_ex3]\n",
        "# Interpret the sentence data for experiment 3 using the created decoder\n",
        "accuracy_exp3_bert, topic_acc_exp3_bert, subtopic_acc_exp3_bert = interpret_sentence_data_filtered(\n",
        "    sentence_decoder_exp3_bert, exp3_pkl, bert_embeddings_exp3, P_vals_bert_3\n",
        ")\n",
        "\n",
        "# Interpret the thought data for experiment 1 using the created decoder\n",
        "accuracy_exp1_bert, concepts_acc_exp1_bert = concept_decoding_filtered(\n",
        "    sentence_decoder_exp3_bert, data_exp1, concepts_exp1, bert_embeddings_exp1, P_vals_bert_3\n",
        ")\n",
        "\n",
        "# Interpret the sentence data for experiment 2 using the created decoder\n",
        "accuracy_exp2_bert, topic_acc_exp2_bert, subtopic_acc_exp2_bert = interpret_sentence_data_filtered(\n",
        "    sentence_decoder_exp3_bert, exp2_pkl, bert_embeddings_exp2, P_vals_bert_3\n",
        ")"
      ],
      "metadata": {
        "id": "a9qWIOoYfUXL"
      },
      "execution_count": 86,
      "outputs": []
    },
    {
      "cell_type": "code",
      "source": [
        "print(\"Training on: Exp3\")\n",
        "print(\"Testing on: Exp1, Exp2\")\n",
        "print()\n",
        "\n",
        "print(\"Normalized average accuracies - \")\n",
        "print(f'Accuracy GloVe on Exp1: {exp1_glv_accuracy/180}, Accuracy Bert on Exp1: {accuracy_exp1_bert/180}')\n",
        "print(f'Accuracy GloVe on Exp2: {exp2_glv_accuracy/384}, Accuracy Bert on Exp2: {accuracy_exp2_bert/384}')\n",
        "print(f'Accuracy GloVe on Exp3: {exp3_glv_accuracy/243}, Accuracy Bert on Exp3: {accuracy_exp3_bert/243}')\n",
        "\n",
        "print(\"Raw average accuracies - \")\n",
        "print(f'Accuracy GloVe on Exp1: {exp1_glv_accuracy}, Accuracy Bert on Exp1: {accuracy_exp1_bert}')\n",
        "print(f'Accuracy GloVe on Exp2: {exp2_glv_accuracy}, Accuracy Bert on Exp2: {accuracy_exp2_bert}')\n",
        "print(f'Accuracy GloVe on Exp3: {exp3_glv_accuracy}, Accuracy Bert on Exp3: {accuracy_exp3_bert}')\n",
        "\n",
        "print()\n",
        "\n",
        "# Sorting topics and concepts based on accuracy\n",
        "topic_acc_exp2_glv_sorted = sorted(exp2_glv_topic_acc.items(), key=lambda item: item[1])\n",
        "topic_acc_exp2_bert_sorted = sorted(topic_acc_exp2_bert.items(), key=lambda item: item[1])\n",
        "concepts_acc_exp1_bert_sorted = sorted(concepts_acc_exp1_bert.items(), key=lambda item: item[1])\n",
        "concepts_acc_exp1_glv_sorted = sorted(exp1_glv_concepts_acc.items(), key=lambda item: item[1])\n",
        "\n",
        "n=8\n",
        "\n",
        "# Printing the top and bottom n topics/concepts based on accuracy\n",
        "print('Best Decoded Topics')\n",
        "print('For Exp2 and GloVe:')\n",
        "print(topic_acc_exp2_glv_sorted[0:n])\n",
        "print('For Exp2 and Bert:')\n",
        "print(topic_acc_exp2_bert_sorted[0:n])\n",
        "print('For Exp1 and GloVe:')\n",
        "print(concepts_acc_exp1_glv_sorted[0:n])\n",
        "print('For Exp1 and Bert:')\n",
        "print(concepts_acc_exp1_bert_sorted[0:n])\n",
        "print()\n",
        "print('Worst Decoded Topics')\n",
        "print('For Exp2 and GloVe:')\n",
        "print(topic_acc_exp2_glv_sorted[-n:])\n",
        "print('For Exp2 and Bert:')\n",
        "print(topic_acc_exp2_bert_sorted[-n:])\n",
        "print('For Exp1 and GloVe:')\n",
        "print(concepts_acc_exp1_glv_sorted[-n:])\n",
        "print('For Exp1 and Bert:')\n",
        "print(concepts_acc_exp1_bert_sorted[-n:])\n",
        "print()"
      ],
      "metadata": {
        "id": "a5gwTRzBEnA3",
        "colab": {
          "base_uri": "https://localhost:8080/"
        },
        "outputId": "5cdb9756-a791-402d-f5f9-cf61413ca1b1"
      },
      "execution_count": 87,
      "outputs": [
        {
          "output_type": "stream",
          "name": "stdout",
          "text": [
            "Training on: Exp3\n",
            "Testing on: Exp1, Exp2\n",
            "\n",
            "Normalized average accuracies - \n",
            "Accuracy GloVe on Exp1: 0.4558950617283951, Accuracy Bert on Exp1: 0.4855864197530864\n",
            "Accuracy GloVe on Exp2: 0.3512708875868056, Accuracy Bert on Exp2: 0.3371988932291667\n",
            "Accuracy GloVe on Exp3: 0.005266812308421819, Accuracy Bert on Exp3: 0.005402293010889261\n",
            "Raw average accuracies - \n",
            "Accuracy GloVe on Exp1: 82.06111111111112, Accuracy Bert on Exp1: 87.40555555555555\n",
            "Accuracy GloVe on Exp2: 134.88802083333334, Accuracy Bert on Exp2: 129.484375\n",
            "Accuracy GloVe on Exp3: 1.2798353909465021, Accuracy Bert on Exp3: 1.3127572016460904\n",
            "\n",
            "Best Decoded Topics\n",
            "For Exp2 and GloVe:\n",
            "[('drink_non_alcoholic', 70.0625), ('human', 71.625), ('fruit', 83.4375), ('body_part', 95.875), ('animal', 107.5625), ('furniture', 115.0), ('appliance', 117.4375), ('place', 122.875)]\n",
            "For Exp2 and Bert:\n",
            "[('human', 72.9375), ('appliance', 85.875), ('profession', 86.8125), ('body_part', 100.375), ('insect', 100.875), ('place', 100.9375), ('crime', 106.375), ('fruit', 106.8125)]\n",
            "For Exp1 and GloVe:\n",
            "[('plant', 1), ('texture', 1), ('shape', 2), ('fish', 3), ('great', 3), ('feeling', 4), ('bed', 5), ('sugar', 5)]\n",
            "For Exp1 and Bert:\n",
            "[('sound', 1), ('spoke', 1), ('student', 3), ('sugar', 3), ('laugh', 4), ('movement', 4), ('religious', 4), ('hair', 5)]\n",
            "\n",
            "Worst Decoded Topics\n",
            "For Exp2 and GloVe:\n",
            "[('insect', 146.375), ('landscape', 151.4375), ('dwelling', 154.3125), ('kitchen_utensil', 159.75), ('vegetable', 164.375), ('vehicles_transport', 174.125), ('profession', 198.9375), ('music', 209.875)]\n",
            "For Exp2 and Bert:\n",
            "[('fish', 150.5), ('landscape', 153.5), ('vehicles_transport', 154.875), ('animal', 156.625), ('bird', 156.8125), ('building_part', 162.6875), ('kitchen_utensil', 180.875), ('weapon', 185.1875)]\n",
            "For Exp1 and GloVe:\n",
            "[('sew', 170), ('disturb', 172), ('liar', 172), ('time', 174), ('dessert', 175), ('doctor', 176), ('illness', 179), ('argumentatively', 180)]\n",
            "For Exp1 and Bert:\n",
            "[('plant', 173), ('do', 174), ('table', 174), ('illness', 175), ('cockroach', 177), ('sew', 177), ('argumentatively', 179), ('deceive', 179)]\n",
            "\n"
          ]
        }
      ]
    },
    {
      "cell_type": "markdown",
      "source": [
        "# GLoVE WITHOUT MASK"
      ],
      "metadata": {
        "id": "0TkMFM5dkFQL"
      }
    },
    {
      "cell_type": "code",
      "source": [
        "# Establish the GloVe decoder for exp 2\n",
        "exp3_decoder_glove = learn_decoder(exp3_pkl['Fmridata'], avg_sen_3).T\n",
        "\n",
        "# Decoding sentences for exp 3\n",
        "exp3_glv_accuracy, exp3_glv_topic_acc, exp3_glv_subtopic_acc = interpret_sentence_data(exp3_decoder_glove, exp3_pkl, avg_sen_3)\n",
        "\n",
        "# Decoding concepts for exp 1\n",
        "exp1_glv_accuracy, exp1_glv_concepts_acc = concept_decoding(exp3_decoder_glove, data_exp1, concepts_exp1,GLOVE_vectors_exp1)\n",
        "\n",
        "# Decoding sentences for exp 2\n",
        "exp2_glv_accuracy, exp2_glv_topic_acc, exp2_glv_subtopic_acc = interpret_sentence_data(exp3_decoder_glove, exp2_pkl, avg_sen_2)"
      ],
      "metadata": {
        "id": "FIggmmYEejDI"
      },
      "execution_count": 88,
      "outputs": []
    },
    {
      "cell_type": "markdown",
      "source": [
        "## BERT WITHOUT MASK"
      ],
      "metadata": {
        "id": "pyZqJXErHM4D"
      }
    },
    {
      "cell_type": "code",
      "source": [
        "# Create the sentence decoder for experiment 2 using BERT vectors\n",
        "sentence_decoder_exp3_bert = learn_decoder(exp3_pkl['Fmridata'], bert_embeddings_exp3).T\n",
        "\n",
        "# Interpret the sentence data for experiment 3 using the created decoder\n",
        "accuracy_exp3_bert, topic_acc_exp3_bert, subtopic_acc_exp3_bert = interpret_sentence_data(\n",
        "    sentence_decoder_exp3_bert, exp3_pkl, bert_embeddings_exp3\n",
        ")\n",
        "\n",
        "# Interpret the thought data for experiment 1 using the created decoder\n",
        "accuracy_exp1_bert, concepts_acc_exp1_bert = concept_decoding(\n",
        "    sentence_decoder_exp3_bert, data_exp1, concepts_exp1, bert_embeddings_exp1\n",
        ")\n",
        "\n",
        "# Interpret the sentence data for experiment 2 using the created decoder\n",
        "accuracy_exp2_bert, topic_acc_exp2_bert, subtopic_acc_exp2_bert = interpret_sentence_data(\n",
        "    sentence_decoder_exp3_bert, exp2_pkl, bert_embeddings_exp2\n",
        ")"
      ],
      "metadata": {
        "id": "FtKcCFrfG2CS"
      },
      "execution_count": 89,
      "outputs": []
    },
    {
      "cell_type": "code",
      "source": [
        "print(\"Training on: Exp3\")\n",
        "print(\"Testing on: Exp1, Exp2\")\n",
        "print()\n",
        "\n",
        "print(\"Normalized average accuracies - \")\n",
        "print(f'Accuracy GloVe on Exp1: {exp1_glv_accuracy/180}, Accuracy Bert on Exp1: {accuracy_exp1_bert/180}')\n",
        "print(f'Accuracy GloVe on Exp2: {exp2_glv_accuracy/384}, Accuracy Bert on Exp2: {accuracy_exp2_bert/384}')\n",
        "print(f'Accuracy GloVe on Exp3: {exp3_glv_accuracy/243}, Accuracy Bert on Exp3: {accuracy_exp3_bert/243}')\n",
        "\n",
        "print(\"Raw average accuracies - \")\n",
        "print(f'Accuracy GloVe on Exp1: {exp1_glv_accuracy}, Accuracy Bert on Exp1: {accuracy_exp1_bert}')\n",
        "print(f'Accuracy GloVe on Exp2: {exp2_glv_accuracy}, Accuracy Bert on Exp2: {accuracy_exp2_bert}')\n",
        "print(f'Accuracy GloVe on Exp3: {exp3_glv_accuracy}, Accuracy Bert on Exp3: {accuracy_exp3_bert}')\n",
        "\n",
        "print()\n",
        "\n",
        "# Sorting topics and concepts based on accuracy\n",
        "topic_acc_exp2_glv_sorted = sorted(exp2_glv_topic_acc.items(), key=lambda item: item[1])\n",
        "topic_acc_exp2_bert_sorted = sorted(topic_acc_exp2_bert.items(), key=lambda item: item[1])\n",
        "concepts_acc_exp1_bert_sorted = sorted(concepts_acc_exp1_bert.items(), key=lambda item: item[1])\n",
        "concepts_acc_exp1_glv_sorted = sorted(exp1_glv_concepts_acc.items(), key=lambda item: item[1])\n",
        "\n",
        "n=8\n",
        "\n",
        "# Printing the top and bottom n topics/concepts based on accuracy\n",
        "print('Best Decoded Topics')\n",
        "print('For Exp2 and GloVe:')\n",
        "print(topic_acc_exp2_glv_sorted[0:n])\n",
        "print('For Exp2 and Bert:')\n",
        "print(topic_acc_exp2_bert_sorted[0:n])\n",
        "print('For Exp1 and GloVe:')\n",
        "print(concepts_acc_exp1_glv_sorted[0:n])\n",
        "print('For Exp1 and Bert:')\n",
        "print(concepts_acc_exp1_bert_sorted[0:n])\n",
        "print()\n",
        "print('Worst Decoded Topics')\n",
        "print('For Exp2 and GloVe:')\n",
        "print(topic_acc_exp2_glv_sorted[-n:])\n",
        "print('For Exp2 and Bert:')\n",
        "print(topic_acc_exp2_bert_sorted[-n:])\n",
        "print('For Exp1 and GloVe:')\n",
        "print(concepts_acc_exp1_glv_sorted[-n:])\n",
        "print('For Exp1 and Bert:')\n",
        "print(concepts_acc_exp1_bert_sorted[-n:])\n",
        "print()"
      ],
      "metadata": {
        "colab": {
          "base_uri": "https://localhost:8080/"
        },
        "id": "SAblpNCmHKU5",
        "outputId": "43ac4ce9-cb09-4e1e-c043-ef8056ed9ade"
      },
      "execution_count": 90,
      "outputs": [
        {
          "output_type": "stream",
          "name": "stdout",
          "text": [
            "Training on: Exp3\n",
            "Testing on: Exp1, Exp2\n",
            "\n",
            "Normalized average accuracies - \n",
            "Accuracy GloVe on Exp1: 0.46361111111111114, Accuracy Bert on Exp1: 0.4920987654320988\n",
            "Accuracy GloVe on Exp2: 0.3953450520833333, Accuracy Bert on Exp2: 0.34374321831597227\n",
            "Accuracy GloVe on Exp3: 0.00411522633744856, Accuracy Bert on Exp3: 0.00411522633744856\n",
            "Raw average accuracies - \n",
            "Accuracy GloVe on Exp1: 83.45, Accuracy Bert on Exp1: 88.57777777777778\n",
            "Accuracy GloVe on Exp2: 151.8125, Accuracy Bert on Exp2: 131.99739583333334\n",
            "Accuracy GloVe on Exp3: 1.0, Accuracy Bert on Exp3: 1.0\n",
            "\n",
            "Best Decoded Topics\n",
            "For Exp2 and GloVe:\n",
            "[('dwelling', 88.6875), ('human', 93.5), ('body_part', 93.625), ('drink_non_alcoholic', 100.5), ('furniture', 105.1875), ('place', 105.5), ('building_part', 112.0), ('tool', 125.1875)]\n",
            "For Exp2 and Bert:\n",
            "[('human', 58.8125), ('body_part', 93.375), ('tool', 96.5), ('profession', 101.5625), ('appliance', 102.25), ('place', 111.375), ('disaster', 113.0), ('insect', 114.875)]\n",
            "For Exp1 and GloVe:\n",
            "[('great', 1), ('time', 2), ('do', 3), ('ability', 5), ('art', 6), ('help', 7), ('shape', 7), ('ball', 8)]\n",
            "For Exp1 and Bert:\n",
            "[('dance', 2), ('religious', 2), ('successful', 3), ('tried', 4), ('beer', 5), ('sugar', 5), ('hair', 6), ('medication', 7)]\n",
            "\n",
            "Worst Decoded Topics\n",
            "For Exp2 and GloVe:\n",
            "[('clothing', 174.3125), ('insect', 174.375), ('landscape', 179.9375), ('vehicles_transport', 187.3125), ('fruit', 187.375), ('music', 218.9375), ('profession', 220.5), ('vegetable', 238.875)]\n",
            "For Exp2 and Bert:\n",
            "[('dwelling', 147.6875), ('fruit', 149.4375), ('music', 157.6875), ('furniture', 163.5625), ('fish', 166.0), ('vegetable', 170.8125), ('weapon', 171.1875), ('kitchen_utensil', 172.3125)]\n",
            "For Exp1 and GloVe:\n",
            "[('disturb', 173), ('applause', 176), ('dissolve', 176), ('liar', 176), ('electron', 177), ('cockroach', 179), ('deceive', 179), ('argumentatively', 180)]\n",
            "For Exp1 and Bert:\n",
            "[('table', 174), ('team', 174), ('plant', 175), ('illness', 176), ('cockroach', 177), ('deceive', 177), ('argumentatively', 178), ('sew', 180)]\n",
            "\n"
          ]
        }
      ]
    },
    {
      "cell_type": "markdown",
      "source": [
        "# Training on Exp1: and evaluations on Exp3, Exp2\n",
        "\n",
        "# GloVe:"
      ],
      "metadata": {
        "id": "iTqj6IR6JMYy"
      }
    },
    {
      "cell_type": "code",
      "source": [
        "# Establish the GloVe decoder for exp 2\n",
        "exp1_decoder_glove = learn_decoder(data_exp1, GLOVE_vectors_exp1).T\n",
        "\n",
        "# Decoding sentences for exp 3\n",
        "exp3_glv_accuracy, exp3_glv_topic_acc, exp3_glv_subtopic_acc = interpret_sentence_data(exp1_decoder_glove, exp3_pkl, avg_sen_3)\n",
        "\n",
        "# Decoding concepts for exp 1\n",
        "exp1_glv_accuracy, exp1_glv_concepts_acc = concept_decoding(exp1_decoder_glove, data_exp1, concepts_exp1,GLOVE_vectors_exp1)\n",
        "\n",
        "# Decoding sentences for exp 2\n",
        "exp2_glv_accuracy, exp2_glv_topic_acc, exp2_glv_subtopic_acc = interpret_sentence_data(exp1_decoder_glove, exp2_pkl, avg_sen_2)"
      ],
      "metadata": {
        "id": "Nc42H6nnHXFH"
      },
      "execution_count": 93,
      "outputs": []
    },
    {
      "cell_type": "markdown",
      "source": [
        "## BERT"
      ],
      "metadata": {
        "id": "cg6uZfTrJgLg"
      }
    },
    {
      "cell_type": "code",
      "source": [
        "# Create the sentence decoder for experiment 2 using BERT vectors\n",
        "sentence_decoder_exp1_bert = learn_decoder(data_exp1, bert_embeddings_exp1).T\n",
        "\n",
        "# Interpret the sentence data for experiment 3 using the created decoder\n",
        "accuracy_exp3_bert, topic_acc_exp3_bert, subtopic_acc_exp3_bert = interpret_sentence_data(\n",
        "    sentence_decoder_exp1_bert, exp3_pkl, bert_embeddings_exp3\n",
        ")\n",
        "\n",
        "# Interpret the thought data for experiment 1 using the created decoder\n",
        "accuracy_exp1_bert, concepts_acc_exp1_bert = concept_decoding(\n",
        "    sentence_decoder_exp1_bert, data_exp1, concepts_exp1, bert_embeddings_exp1\n",
        ")\n",
        "\n",
        "# Interpret the sentence data for experiment 2 using the created decoder\n",
        "accuracy_exp2_bert, topic_acc_exp2_bert, subtopic_acc_exp2_bert = interpret_sentence_data(\n",
        "    sentence_decoder_exp1_bert, exp2_pkl, bert_embeddings_exp2\n",
        ")"
      ],
      "metadata": {
        "id": "zTEEuQ0sJee7"
      },
      "execution_count": 94,
      "outputs": []
    },
    {
      "cell_type": "code",
      "source": [
        "print(\"Training on: Exp1\")\n",
        "print(\"Testing on: Exp3, Exp2\")\n",
        "print()\n",
        "\n",
        "print(\"Normalized average accuracies - \")\n",
        "print(f'Accuracy GloVe on Exp1: {exp1_glv_accuracy/180}, Accuracy Bert on Exp1: {accuracy_exp1_bert/180}')\n",
        "print(f'Accuracy GloVe on Exp2: {exp2_glv_accuracy/384}, Accuracy Bert on Exp2: {accuracy_exp2_bert/384}')\n",
        "print(f'Accuracy GloVe on Exp3: {exp3_glv_accuracy/243}, Accuracy Bert on Exp3: {accuracy_exp3_bert/243}')\n",
        "\n",
        "print(\"Raw average accuracies - \")\n",
        "print(f'Accuracy GloVe on Exp1: {exp1_glv_accuracy}, Accuracy Bert on Exp1: {accuracy_exp1_bert}')\n",
        "print(f'Accuracy GloVe on Exp2: {exp2_glv_accuracy}, Accuracy Bert on Exp2: {accuracy_exp2_bert}')\n",
        "print(f'Accuracy GloVe on Exp3: {exp3_glv_accuracy}, Accuracy Bert on Exp3: {accuracy_exp3_bert}')\n",
        "\n",
        "print()\n",
        "\n",
        "# Sorting topics and concepts based on accuracy\n",
        "topic_acc_exp2_glv_sorted = sorted(exp2_glv_topic_acc.items(), key=lambda item: item[1])\n",
        "topic_acc_exp2_bert_sorted = sorted(topic_acc_exp2_bert.items(), key=lambda item: item[1])\n",
        "topic_acc_exp3_glv_sorted = sorted(exp3_glv_topic_acc.items(), key=lambda item: item[1])\n",
        "topic_acc_exp3_bert_sorted = sorted(topic_acc_exp3_bert.items(), key=lambda item: item[1])\n",
        "\n",
        "# Printing the top and bottom n topics/concepts based on accuracy\n",
        "print('Best Decoded Topics')\n",
        "print('For Exp2 and GloVe:')\n",
        "print(topic_acc_exp2_glv_sorted[0:n])\n",
        "print('For Exp2 and Bert:')\n",
        "print(topic_acc_exp2_bert_sorted[0:n])\n",
        "print('For Exp3 and GloVe:')\n",
        "print(topic_acc_exp3_glv_sorted[0:n])\n",
        "print('For Exp3 and Bert:')\n",
        "print(topic_acc_exp3_bert_sorted[0:n])\n",
        "print()\n",
        "print('Worst Decoded Topics')\n",
        "print('For Exp2 and GloVe:')\n",
        "print(topic_acc_exp2_glv_sorted[-n:])\n",
        "print('For Exp2 and Bert:')\n",
        "print(topic_acc_exp2_bert_sorted[-n:])\n",
        "print('For Exp3 and GloVe:')\n",
        "print(topic_acc_exp3_glv_sorted[-n:])\n",
        "print('For Exp3 and Bert:')\n",
        "print(topic_acc_exp3_bert_sorted[-n:])\n",
        "print()"
      ],
      "metadata": {
        "id": "SyVhWbqyJtCZ",
        "colab": {
          "base_uri": "https://localhost:8080/"
        },
        "outputId": "3d63fbdd-61e9-47be-9737-62d876ceb32a"
      },
      "execution_count": 95,
      "outputs": [
        {
          "output_type": "stream",
          "name": "stdout",
          "text": [
            "Training on: Exp1\n",
            "Testing on: Exp3, Exp2\n",
            "\n",
            "Normalized average accuracies - \n",
            "Accuracy GloVe on Exp1: 0.005555555555555556, Accuracy Bert on Exp1: 0.005555555555555556\n",
            "Accuracy GloVe on Exp2: 0.4086642795138889, Accuracy Bert on Exp2: 0.4550577799479167\n",
            "Accuracy GloVe on Exp3: 0.41458788463818186, Accuracy Bert on Exp3: 0.4791275042761097\n",
            "Raw average accuracies - \n",
            "Accuracy GloVe on Exp1: 1.0, Accuracy Bert on Exp1: 1.0\n",
            "Accuracy GloVe on Exp2: 156.92708333333334, Accuracy Bert on Exp2: 174.7421875\n",
            "Accuracy GloVe on Exp3: 100.7448559670782, Accuracy Bert on Exp3: 116.42798353909465\n",
            "\n",
            "Best Decoded Topics\n",
            "For Exp2 and GloVe:\n",
            "[('body_part', 70.4375), ('human', 92.75), ('drink_non_alcoholic', 98.9375), ('dwelling', 113.6875), ('appliance', 113.75), ('furniture', 131.875), ('kitchen_utensil', 141.25), ('disaster', 149.3125)]\n",
            "For Exp2 and Bert:\n",
            "[('human', 51.375), ('crime', 67.9375), ('body_part', 77.4375), ('appliance', 136.25), ('animal', 148.875), ('landscape', 149.9375), ('tool', 155.875), ('music', 157.9375)]\n",
            "For Exp3 and GloVe:\n",
            "[('dreams', 52.8), ('stress', 58.2), ('castle', 59.1), ('opera', 63.63636363636363), ('bone_fracture', 68.0909090909091), ('law_school', 68.2), ('gambling', 71.6), ('taste', 78.66666666666667)]\n",
            "For Exp3 and Bert:\n",
            "[('opera', 75.9090909090909), ('dreams', 78.4), ('castle', 90.3), ('law_school', 94.7), ('rock_climbing', 95.63636363636364), ('blindness', 98.6), ('infection', 101.1), ('computer_graphics', 103.1)]\n",
            "\n",
            "Worst Decoded Topics\n",
            "For Exp2 and GloVe:\n",
            "[('fruit', 176.3125), ('landscape', 176.5), ('insect', 179.875), ('music', 185.0), ('vehicles_transport', 186.6875), ('animal', 196.25), ('vegetable', 237.625), ('profession', 249.125)]\n",
            "For Exp2 and Bert:\n",
            "[('fish', 196.0625), ('insect', 200.75), ('vehicles_transport', 209.1875), ('fruit', 230.0625), ('weapon', 234.0), ('disaster', 235.9375), ('dwelling', 239.1875), ('vegetable', 258.9375)]\n",
            "For Exp3 and GloVe:\n",
            "[('infection', 118.2), ('ice_cream', 119.6), ('skiing', 129.5), ('pharmacist', 136.6), ('pyramid', 147.2), ('lawn_mower', 148.1), ('owl', 148.6), ('beekeeping', 169.8181818181818)]\n",
            "For Exp3 and Bert:\n",
            "[('hurricane', 135.0), ('astronaut', 136.2), ('pharmacist', 139.8), ('owl', 143.4), ('lawn_mower', 147.8), ('skiing', 149.2), ('ice_cream', 160.6), ('beekeeping', 166.63636363636363)]\n",
            "\n"
          ]
        }
      ]
    },
    {
      "cell_type": "code",
      "source": [
        "print(\"Retrieving Topics from Experiment 2...\")\n",
        "exp2_topics, exp2_subtopics = extract_topics(exp2_pkl)\n",
        "print(\"Topics from Experiment 2:\")\n",
        "for idx in range(0, len(exp2_topics), 6):\n",
        "  print(exp2_topics[idx:idx+6])\n",
        "print(\"\\nSubtopics from Experiment 2:\")\n",
        "print(exp2_subtopics)\n",
        "\n",
        "print(\"\\nRetrieving Topics from Experiment 3...\")\n",
        "exp3_topics, exp3_subtopics = extract_topics(exp3_pkl)\n",
        "print(\"Topics from Experiment 3:\")\n",
        "for idx in range(0, len(exp3_topics), 6):\n",
        "  print(exp3_topics[idx:idx+6])\n",
        "\n",
        "print(\"\\nConcepts from Experiment 1:\")\n",
        "print(concepts_exp1)"
      ],
      "metadata": {
        "id": "TdaonkOEM7ZG",
        "colab": {
          "base_uri": "https://localhost:8080/"
        },
        "outputId": "498b762a-cc22-4699-de07-d60970b2e89d"
      },
      "execution_count": 96,
      "outputs": [
        {
          "output_type": "stream",
          "name": "stdout",
          "text": [
            "Retrieving Topics from Experiment 2...\n",
            "Topics from Experiment 2:\n",
            "['music', 'dwelling', 'fruit', 'crime', 'vehicles_transport', 'weapon']\n",
            "['furniture', 'insect', 'profession', 'appliance', 'human', 'vegetable']\n",
            "['animal', 'fish', 'drink_non_alcoholic', 'landscape', 'building_part', 'clothing']\n",
            "['disaster', 'bird', 'body_part', 'place', 'kitchen_utensil', 'tool']\n",
            "\n",
            "Subtopics from Experiment 2:\n",
            "['Accordion', 'Apartment', 'Apple', 'Arson', 'Automobile', 'Axe', 'Banana', 'Bed', 'Bee', 'Bicycle', 'Blacksmith', 'Blender', 'Boy', 'Broccoli', 'Butterfly', 'Carpenter', 'Cat', 'Chair', 'Clarinet', 'Cod', 'Coffee', 'Desert', 'Desk', 'Door', 'Dress', 'Driving_under_the_influence', 'Drought', 'Eagle', 'Earthquake', 'Elephant', 'Eye', 'Farm', 'Finger', 'Flood', 'Floor', 'Foot', 'Forest', 'Fork', 'Frying_pan', 'Girl', 'Glove', 'Hammer', 'Hand_grenade', 'Horse', 'Hospital', 'House', 'Igloo', 'Knife', 'Lentil', 'Lettuce', 'Library', 'Log_cabin', 'Man', 'Milk', 'Mosquito', 'Mountain', 'Mouth', 'Mug', 'Murder', 'Orange_juice', 'Parrot', 'Peach', 'Piano', 'Piranha', 'Raspberry', 'Raven', 'Refrigerator', 'Rifle', 'Salmon', 'Saw', 'Scientist', 'Scissors', 'Screwdriver', 'Shark', 'Ship', 'Shoe', 'Soldier', 'Spear', 'Spider', 'Swamp', 'Sweater', 'Table_(furniture)', 'Television', 'Theft', 'Toaster', 'Tomato', 'Train', 'Train_station', 'Tropical_cyclone', 'Violin', 'Vulture', 'Wall', 'Water', 'Whale', 'Window', 'Woman']\n",
            "\n",
            "Retrieving Topics from Experiment 3...\n",
            "Topics from Experiment 3:\n",
            "['beekeeping', 'dreams', 'gambling', 'hurricane', 'ice_cream', 'lawn_mower']\n",
            "['astronaut', 'computer_graphics', 'law_school', 'pharmacist', 'stress', 'tuxedo']\n",
            "['blindness', 'taste', 'bone_fracture', 'infection', 'opera', 'painter']\n",
            "['owl', 'polar_bear', 'castle', 'pyramid', 'rock_climbing', 'skiing']\n",
            "\n",
            "Concepts from Experiment 1:\n",
            "['ability' 'accomplished' 'angry' 'apartment' 'applause' 'argument'\n",
            " 'argumentatively' 'art' 'attitude' 'bag' 'ball' 'bar' 'bear' 'beat' 'bed'\n",
            " 'beer' 'big' 'bird' 'blood' 'body' 'brain' 'broken' 'building' 'burn'\n",
            " 'business' 'camera' 'carefully' 'challenge' 'charity' 'charming'\n",
            " 'clothes' 'cockroach' 'code' 'collection' 'computer' 'construction'\n",
            " 'cook' 'counting' 'crazy' 'damage' 'dance' 'dangerous' 'deceive'\n",
            " 'dedication' 'deliberately' 'delivery' 'dessert' 'device' 'dig' 'dinner'\n",
            " 'disease' 'dissolve' 'disturb' 'do' 'doctor' 'dog' 'dressing' 'driver'\n",
            " 'economy' 'election' 'electron' 'elegance' 'emotion' 'emotionally'\n",
            " 'engine' 'event' 'experiment' 'extremely' 'feeling' 'fight' 'fish' 'flow'\n",
            " 'food' 'garbage' 'gold' 'great' 'gun' 'hair' 'help' 'hurting' 'ignorance'\n",
            " 'illness' 'impress' 'invention' 'investigation' 'invisible' 'job'\n",
            " 'jungle' 'kindness' 'king' 'lady' 'land' 'laugh' 'law' 'left' 'level'\n",
            " 'liar' 'light' 'magic' 'marriage' 'material' 'mathematical' 'mechanism'\n",
            " 'medication' 'money' 'mountain' 'movement' 'movie' 'music' 'nation'\n",
            " 'news' 'noise' 'obligation' 'pain' 'personality' 'philosophy' 'picture'\n",
            " 'pig' 'plan' 'plant' 'play' 'pleasure' 'poor' 'prison' 'professional'\n",
            " 'protection' 'quality' 'reaction' 'read' 'relationship' 'religious'\n",
            " 'residence' 'road' 'sad' 'science' 'seafood' 'sell' 'sew' 'sexy' 'shape'\n",
            " 'ship' 'show' 'sign' 'silly' 'sin' 'skin' 'smart' 'smiling' 'solution'\n",
            " 'soul' 'sound' 'spoke' 'star' 'student' 'stupid' 'successful' 'sugar'\n",
            " 'suspect' 'table' 'taste' 'team' 'texture' 'time' 'tool' 'toy' 'tree'\n",
            " 'trial' 'tried' 'typical' 'unaware' 'usable' 'useless' 'vacation' 'war'\n",
            " 'wash' 'weak' 'wear' 'weather' 'willingly' 'word']\n"
          ]
        }
      ]
    }
  ],
  "metadata": {
    "colab": {
      "provenance": [],
      "machine_shape": "hm",
      "gpuType": "T4"
    },
    "kernelspec": {
      "display_name": "Python 3",
      "name": "python3"
    },
    "language_info": {
      "name": "python"
    },
    "widgets": {
      "application/vnd.jupyter.widget-state+json": {
        "e292faba442f4437bd4a62ebba57ed83": {
          "model_module": "@jupyter-widgets/controls",
          "model_name": "HBoxModel",
          "model_module_version": "1.5.0",
          "state": {
            "_dom_classes": [],
            "_model_module": "@jupyter-widgets/controls",
            "_model_module_version": "1.5.0",
            "_model_name": "HBoxModel",
            "_view_count": null,
            "_view_module": "@jupyter-widgets/controls",
            "_view_module_version": "1.5.0",
            "_view_name": "HBoxView",
            "box_style": "",
            "children": [
              "IPY_MODEL_d1690bdfdc3940089445da55c8ff8b60",
              "IPY_MODEL_282881f1f35f45c99be9ee96826d1263",
              "IPY_MODEL_c935efd93922415ba453cb8b5b36f531"
            ],
            "layout": "IPY_MODEL_d4c1dacf91ce4d6283c0ee1221c36ea7"
          }
        },
        "d1690bdfdc3940089445da55c8ff8b60": {
          "model_module": "@jupyter-widgets/controls",
          "model_name": "HTMLModel",
          "model_module_version": "1.5.0",
          "state": {
            "_dom_classes": [],
            "_model_module": "@jupyter-widgets/controls",
            "_model_module_version": "1.5.0",
            "_model_name": "HTMLModel",
            "_view_count": null,
            "_view_module": "@jupyter-widgets/controls",
            "_view_module_version": "1.5.0",
            "_view_name": "HTMLView",
            "description": "",
            "description_tooltip": null,
            "layout": "IPY_MODEL_8102bd9584684179863fab8772b18ce1",
            "placeholder": "​",
            "style": "IPY_MODEL_cab66f2c7c8042caa052fee51fda9cf8",
            "value": "Downloading (…)solve/main/vocab.txt: 100%"
          }
        },
        "282881f1f35f45c99be9ee96826d1263": {
          "model_module": "@jupyter-widgets/controls",
          "model_name": "FloatProgressModel",
          "model_module_version": "1.5.0",
          "state": {
            "_dom_classes": [],
            "_model_module": "@jupyter-widgets/controls",
            "_model_module_version": "1.5.0",
            "_model_name": "FloatProgressModel",
            "_view_count": null,
            "_view_module": "@jupyter-widgets/controls",
            "_view_module_version": "1.5.0",
            "_view_name": "ProgressView",
            "bar_style": "success",
            "description": "",
            "description_tooltip": null,
            "layout": "IPY_MODEL_60ff81e625084056aad9fb1c1bb3fb3e",
            "max": 231508,
            "min": 0,
            "orientation": "horizontal",
            "style": "IPY_MODEL_5448d1c50dda43e0884d433f447594b2",
            "value": 231508
          }
        },
        "c935efd93922415ba453cb8b5b36f531": {
          "model_module": "@jupyter-widgets/controls",
          "model_name": "HTMLModel",
          "model_module_version": "1.5.0",
          "state": {
            "_dom_classes": [],
            "_model_module": "@jupyter-widgets/controls",
            "_model_module_version": "1.5.0",
            "_model_name": "HTMLModel",
            "_view_count": null,
            "_view_module": "@jupyter-widgets/controls",
            "_view_module_version": "1.5.0",
            "_view_name": "HTMLView",
            "description": "",
            "description_tooltip": null,
            "layout": "IPY_MODEL_6b54a46b68054747b8e1ae5c974a852d",
            "placeholder": "​",
            "style": "IPY_MODEL_d91eea77f12940409a5556126bae8736",
            "value": " 232k/232k [00:00&lt;00:00, 5.65MB/s]"
          }
        },
        "d4c1dacf91ce4d6283c0ee1221c36ea7": {
          "model_module": "@jupyter-widgets/base",
          "model_name": "LayoutModel",
          "model_module_version": "1.2.0",
          "state": {
            "_model_module": "@jupyter-widgets/base",
            "_model_module_version": "1.2.0",
            "_model_name": "LayoutModel",
            "_view_count": null,
            "_view_module": "@jupyter-widgets/base",
            "_view_module_version": "1.2.0",
            "_view_name": "LayoutView",
            "align_content": null,
            "align_items": null,
            "align_self": null,
            "border": null,
            "bottom": null,
            "display": null,
            "flex": null,
            "flex_flow": null,
            "grid_area": null,
            "grid_auto_columns": null,
            "grid_auto_flow": null,
            "grid_auto_rows": null,
            "grid_column": null,
            "grid_gap": null,
            "grid_row": null,
            "grid_template_areas": null,
            "grid_template_columns": null,
            "grid_template_rows": null,
            "height": null,
            "justify_content": null,
            "justify_items": null,
            "left": null,
            "margin": null,
            "max_height": null,
            "max_width": null,
            "min_height": null,
            "min_width": null,
            "object_fit": null,
            "object_position": null,
            "order": null,
            "overflow": null,
            "overflow_x": null,
            "overflow_y": null,
            "padding": null,
            "right": null,
            "top": null,
            "visibility": null,
            "width": null
          }
        },
        "8102bd9584684179863fab8772b18ce1": {
          "model_module": "@jupyter-widgets/base",
          "model_name": "LayoutModel",
          "model_module_version": "1.2.0",
          "state": {
            "_model_module": "@jupyter-widgets/base",
            "_model_module_version": "1.2.0",
            "_model_name": "LayoutModel",
            "_view_count": null,
            "_view_module": "@jupyter-widgets/base",
            "_view_module_version": "1.2.0",
            "_view_name": "LayoutView",
            "align_content": null,
            "align_items": null,
            "align_self": null,
            "border": null,
            "bottom": null,
            "display": null,
            "flex": null,
            "flex_flow": null,
            "grid_area": null,
            "grid_auto_columns": null,
            "grid_auto_flow": null,
            "grid_auto_rows": null,
            "grid_column": null,
            "grid_gap": null,
            "grid_row": null,
            "grid_template_areas": null,
            "grid_template_columns": null,
            "grid_template_rows": null,
            "height": null,
            "justify_content": null,
            "justify_items": null,
            "left": null,
            "margin": null,
            "max_height": null,
            "max_width": null,
            "min_height": null,
            "min_width": null,
            "object_fit": null,
            "object_position": null,
            "order": null,
            "overflow": null,
            "overflow_x": null,
            "overflow_y": null,
            "padding": null,
            "right": null,
            "top": null,
            "visibility": null,
            "width": null
          }
        },
        "cab66f2c7c8042caa052fee51fda9cf8": {
          "model_module": "@jupyter-widgets/controls",
          "model_name": "DescriptionStyleModel",
          "model_module_version": "1.5.0",
          "state": {
            "_model_module": "@jupyter-widgets/controls",
            "_model_module_version": "1.5.0",
            "_model_name": "DescriptionStyleModel",
            "_view_count": null,
            "_view_module": "@jupyter-widgets/base",
            "_view_module_version": "1.2.0",
            "_view_name": "StyleView",
            "description_width": ""
          }
        },
        "60ff81e625084056aad9fb1c1bb3fb3e": {
          "model_module": "@jupyter-widgets/base",
          "model_name": "LayoutModel",
          "model_module_version": "1.2.0",
          "state": {
            "_model_module": "@jupyter-widgets/base",
            "_model_module_version": "1.2.0",
            "_model_name": "LayoutModel",
            "_view_count": null,
            "_view_module": "@jupyter-widgets/base",
            "_view_module_version": "1.2.0",
            "_view_name": "LayoutView",
            "align_content": null,
            "align_items": null,
            "align_self": null,
            "border": null,
            "bottom": null,
            "display": null,
            "flex": null,
            "flex_flow": null,
            "grid_area": null,
            "grid_auto_columns": null,
            "grid_auto_flow": null,
            "grid_auto_rows": null,
            "grid_column": null,
            "grid_gap": null,
            "grid_row": null,
            "grid_template_areas": null,
            "grid_template_columns": null,
            "grid_template_rows": null,
            "height": null,
            "justify_content": null,
            "justify_items": null,
            "left": null,
            "margin": null,
            "max_height": null,
            "max_width": null,
            "min_height": null,
            "min_width": null,
            "object_fit": null,
            "object_position": null,
            "order": null,
            "overflow": null,
            "overflow_x": null,
            "overflow_y": null,
            "padding": null,
            "right": null,
            "top": null,
            "visibility": null,
            "width": null
          }
        },
        "5448d1c50dda43e0884d433f447594b2": {
          "model_module": "@jupyter-widgets/controls",
          "model_name": "ProgressStyleModel",
          "model_module_version": "1.5.0",
          "state": {
            "_model_module": "@jupyter-widgets/controls",
            "_model_module_version": "1.5.0",
            "_model_name": "ProgressStyleModel",
            "_view_count": null,
            "_view_module": "@jupyter-widgets/base",
            "_view_module_version": "1.2.0",
            "_view_name": "StyleView",
            "bar_color": null,
            "description_width": ""
          }
        },
        "6b54a46b68054747b8e1ae5c974a852d": {
          "model_module": "@jupyter-widgets/base",
          "model_name": "LayoutModel",
          "model_module_version": "1.2.0",
          "state": {
            "_model_module": "@jupyter-widgets/base",
            "_model_module_version": "1.2.0",
            "_model_name": "LayoutModel",
            "_view_count": null,
            "_view_module": "@jupyter-widgets/base",
            "_view_module_version": "1.2.0",
            "_view_name": "LayoutView",
            "align_content": null,
            "align_items": null,
            "align_self": null,
            "border": null,
            "bottom": null,
            "display": null,
            "flex": null,
            "flex_flow": null,
            "grid_area": null,
            "grid_auto_columns": null,
            "grid_auto_flow": null,
            "grid_auto_rows": null,
            "grid_column": null,
            "grid_gap": null,
            "grid_row": null,
            "grid_template_areas": null,
            "grid_template_columns": null,
            "grid_template_rows": null,
            "height": null,
            "justify_content": null,
            "justify_items": null,
            "left": null,
            "margin": null,
            "max_height": null,
            "max_width": null,
            "min_height": null,
            "min_width": null,
            "object_fit": null,
            "object_position": null,
            "order": null,
            "overflow": null,
            "overflow_x": null,
            "overflow_y": null,
            "padding": null,
            "right": null,
            "top": null,
            "visibility": null,
            "width": null
          }
        },
        "d91eea77f12940409a5556126bae8736": {
          "model_module": "@jupyter-widgets/controls",
          "model_name": "DescriptionStyleModel",
          "model_module_version": "1.5.0",
          "state": {
            "_model_module": "@jupyter-widgets/controls",
            "_model_module_version": "1.5.0",
            "_model_name": "DescriptionStyleModel",
            "_view_count": null,
            "_view_module": "@jupyter-widgets/base",
            "_view_module_version": "1.2.0",
            "_view_name": "StyleView",
            "description_width": ""
          }
        },
        "856a3087bd01498e9ac1bc3d86c0e335": {
          "model_module": "@jupyter-widgets/controls",
          "model_name": "HBoxModel",
          "model_module_version": "1.5.0",
          "state": {
            "_dom_classes": [],
            "_model_module": "@jupyter-widgets/controls",
            "_model_module_version": "1.5.0",
            "_model_name": "HBoxModel",
            "_view_count": null,
            "_view_module": "@jupyter-widgets/controls",
            "_view_module_version": "1.5.0",
            "_view_name": "HBoxView",
            "box_style": "",
            "children": [
              "IPY_MODEL_f0204c7840af457aaec6eee9fecbfec8",
              "IPY_MODEL_09f8e41777284b518ec52dc1feef9583",
              "IPY_MODEL_cd6b1b621291430c90aa5ebd755e6290"
            ],
            "layout": "IPY_MODEL_d53c3a8a3fc74a6590c5df33e42fec33"
          }
        },
        "f0204c7840af457aaec6eee9fecbfec8": {
          "model_module": "@jupyter-widgets/controls",
          "model_name": "HTMLModel",
          "model_module_version": "1.5.0",
          "state": {
            "_dom_classes": [],
            "_model_module": "@jupyter-widgets/controls",
            "_model_module_version": "1.5.0",
            "_model_name": "HTMLModel",
            "_view_count": null,
            "_view_module": "@jupyter-widgets/controls",
            "_view_module_version": "1.5.0",
            "_view_name": "HTMLView",
            "description": "",
            "description_tooltip": null,
            "layout": "IPY_MODEL_f44cc98357ca42d380f5e7a862226ba1",
            "placeholder": "​",
            "style": "IPY_MODEL_5b6fe5d3825246b5ba71080abb0970f8",
            "value": "Downloading (…)lve/main/config.json: 100%"
          }
        },
        "09f8e41777284b518ec52dc1feef9583": {
          "model_module": "@jupyter-widgets/controls",
          "model_name": "FloatProgressModel",
          "model_module_version": "1.5.0",
          "state": {
            "_dom_classes": [],
            "_model_module": "@jupyter-widgets/controls",
            "_model_module_version": "1.5.0",
            "_model_name": "FloatProgressModel",
            "_view_count": null,
            "_view_module": "@jupyter-widgets/controls",
            "_view_module_version": "1.5.0",
            "_view_name": "ProgressView",
            "bar_style": "success",
            "description": "",
            "description_tooltip": null,
            "layout": "IPY_MODEL_f735244f64094707b5cb75c11a665a57",
            "max": 286,
            "min": 0,
            "orientation": "horizontal",
            "style": "IPY_MODEL_5c499b351da549e1bc7392e9421543ee",
            "value": 286
          }
        },
        "cd6b1b621291430c90aa5ebd755e6290": {
          "model_module": "@jupyter-widgets/controls",
          "model_name": "HTMLModel",
          "model_module_version": "1.5.0",
          "state": {
            "_dom_classes": [],
            "_model_module": "@jupyter-widgets/controls",
            "_model_module_version": "1.5.0",
            "_model_name": "HTMLModel",
            "_view_count": null,
            "_view_module": "@jupyter-widgets/controls",
            "_view_module_version": "1.5.0",
            "_view_name": "HTMLView",
            "description": "",
            "description_tooltip": null,
            "layout": "IPY_MODEL_79160b752bb94f8893e9f96e5267770d",
            "placeholder": "​",
            "style": "IPY_MODEL_e16cb34937e94a29993272cfad5de32e",
            "value": " 286/286 [00:00&lt;00:00, 20.9kB/s]"
          }
        },
        "d53c3a8a3fc74a6590c5df33e42fec33": {
          "model_module": "@jupyter-widgets/base",
          "model_name": "LayoutModel",
          "model_module_version": "1.2.0",
          "state": {
            "_model_module": "@jupyter-widgets/base",
            "_model_module_version": "1.2.0",
            "_model_name": "LayoutModel",
            "_view_count": null,
            "_view_module": "@jupyter-widgets/base",
            "_view_module_version": "1.2.0",
            "_view_name": "LayoutView",
            "align_content": null,
            "align_items": null,
            "align_self": null,
            "border": null,
            "bottom": null,
            "display": null,
            "flex": null,
            "flex_flow": null,
            "grid_area": null,
            "grid_auto_columns": null,
            "grid_auto_flow": null,
            "grid_auto_rows": null,
            "grid_column": null,
            "grid_gap": null,
            "grid_row": null,
            "grid_template_areas": null,
            "grid_template_columns": null,
            "grid_template_rows": null,
            "height": null,
            "justify_content": null,
            "justify_items": null,
            "left": null,
            "margin": null,
            "max_height": null,
            "max_width": null,
            "min_height": null,
            "min_width": null,
            "object_fit": null,
            "object_position": null,
            "order": null,
            "overflow": null,
            "overflow_x": null,
            "overflow_y": null,
            "padding": null,
            "right": null,
            "top": null,
            "visibility": null,
            "width": null
          }
        },
        "f44cc98357ca42d380f5e7a862226ba1": {
          "model_module": "@jupyter-widgets/base",
          "model_name": "LayoutModel",
          "model_module_version": "1.2.0",
          "state": {
            "_model_module": "@jupyter-widgets/base",
            "_model_module_version": "1.2.0",
            "_model_name": "LayoutModel",
            "_view_count": null,
            "_view_module": "@jupyter-widgets/base",
            "_view_module_version": "1.2.0",
            "_view_name": "LayoutView",
            "align_content": null,
            "align_items": null,
            "align_self": null,
            "border": null,
            "bottom": null,
            "display": null,
            "flex": null,
            "flex_flow": null,
            "grid_area": null,
            "grid_auto_columns": null,
            "grid_auto_flow": null,
            "grid_auto_rows": null,
            "grid_column": null,
            "grid_gap": null,
            "grid_row": null,
            "grid_template_areas": null,
            "grid_template_columns": null,
            "grid_template_rows": null,
            "height": null,
            "justify_content": null,
            "justify_items": null,
            "left": null,
            "margin": null,
            "max_height": null,
            "max_width": null,
            "min_height": null,
            "min_width": null,
            "object_fit": null,
            "object_position": null,
            "order": null,
            "overflow": null,
            "overflow_x": null,
            "overflow_y": null,
            "padding": null,
            "right": null,
            "top": null,
            "visibility": null,
            "width": null
          }
        },
        "5b6fe5d3825246b5ba71080abb0970f8": {
          "model_module": "@jupyter-widgets/controls",
          "model_name": "DescriptionStyleModel",
          "model_module_version": "1.5.0",
          "state": {
            "_model_module": "@jupyter-widgets/controls",
            "_model_module_version": "1.5.0",
            "_model_name": "DescriptionStyleModel",
            "_view_count": null,
            "_view_module": "@jupyter-widgets/base",
            "_view_module_version": "1.2.0",
            "_view_name": "StyleView",
            "description_width": ""
          }
        },
        "f735244f64094707b5cb75c11a665a57": {
          "model_module": "@jupyter-widgets/base",
          "model_name": "LayoutModel",
          "model_module_version": "1.2.0",
          "state": {
            "_model_module": "@jupyter-widgets/base",
            "_model_module_version": "1.2.0",
            "_model_name": "LayoutModel",
            "_view_count": null,
            "_view_module": "@jupyter-widgets/base",
            "_view_module_version": "1.2.0",
            "_view_name": "LayoutView",
            "align_content": null,
            "align_items": null,
            "align_self": null,
            "border": null,
            "bottom": null,
            "display": null,
            "flex": null,
            "flex_flow": null,
            "grid_area": null,
            "grid_auto_columns": null,
            "grid_auto_flow": null,
            "grid_auto_rows": null,
            "grid_column": null,
            "grid_gap": null,
            "grid_row": null,
            "grid_template_areas": null,
            "grid_template_columns": null,
            "grid_template_rows": null,
            "height": null,
            "justify_content": null,
            "justify_items": null,
            "left": null,
            "margin": null,
            "max_height": null,
            "max_width": null,
            "min_height": null,
            "min_width": null,
            "object_fit": null,
            "object_position": null,
            "order": null,
            "overflow": null,
            "overflow_x": null,
            "overflow_y": null,
            "padding": null,
            "right": null,
            "top": null,
            "visibility": null,
            "width": null
          }
        },
        "5c499b351da549e1bc7392e9421543ee": {
          "model_module": "@jupyter-widgets/controls",
          "model_name": "ProgressStyleModel",
          "model_module_version": "1.5.0",
          "state": {
            "_model_module": "@jupyter-widgets/controls",
            "_model_module_version": "1.5.0",
            "_model_name": "ProgressStyleModel",
            "_view_count": null,
            "_view_module": "@jupyter-widgets/base",
            "_view_module_version": "1.2.0",
            "_view_name": "StyleView",
            "bar_color": null,
            "description_width": ""
          }
        },
        "79160b752bb94f8893e9f96e5267770d": {
          "model_module": "@jupyter-widgets/base",
          "model_name": "LayoutModel",
          "model_module_version": "1.2.0",
          "state": {
            "_model_module": "@jupyter-widgets/base",
            "_model_module_version": "1.2.0",
            "_model_name": "LayoutModel",
            "_view_count": null,
            "_view_module": "@jupyter-widgets/base",
            "_view_module_version": "1.2.0",
            "_view_name": "LayoutView",
            "align_content": null,
            "align_items": null,
            "align_self": null,
            "border": null,
            "bottom": null,
            "display": null,
            "flex": null,
            "flex_flow": null,
            "grid_area": null,
            "grid_auto_columns": null,
            "grid_auto_flow": null,
            "grid_auto_rows": null,
            "grid_column": null,
            "grid_gap": null,
            "grid_row": null,
            "grid_template_areas": null,
            "grid_template_columns": null,
            "grid_template_rows": null,
            "height": null,
            "justify_content": null,
            "justify_items": null,
            "left": null,
            "margin": null,
            "max_height": null,
            "max_width": null,
            "min_height": null,
            "min_width": null,
            "object_fit": null,
            "object_position": null,
            "order": null,
            "overflow": null,
            "overflow_x": null,
            "overflow_y": null,
            "padding": null,
            "right": null,
            "top": null,
            "visibility": null,
            "width": null
          }
        },
        "e16cb34937e94a29993272cfad5de32e": {
          "model_module": "@jupyter-widgets/controls",
          "model_name": "DescriptionStyleModel",
          "model_module_version": "1.5.0",
          "state": {
            "_model_module": "@jupyter-widgets/controls",
            "_model_module_version": "1.5.0",
            "_model_name": "DescriptionStyleModel",
            "_view_count": null,
            "_view_module": "@jupyter-widgets/base",
            "_view_module_version": "1.2.0",
            "_view_name": "StyleView",
            "description_width": ""
          }
        },
        "97002e9fc27940d7b40d3d3c3a5076a0": {
          "model_module": "@jupyter-widgets/controls",
          "model_name": "HBoxModel",
          "model_module_version": "1.5.0",
          "state": {
            "_dom_classes": [],
            "_model_module": "@jupyter-widgets/controls",
            "_model_module_version": "1.5.0",
            "_model_name": "HBoxModel",
            "_view_count": null,
            "_view_module": "@jupyter-widgets/controls",
            "_view_module_version": "1.5.0",
            "_view_name": "HBoxView",
            "box_style": "",
            "children": [
              "IPY_MODEL_d8dc859aed2d40f79f60af961f459bb1",
              "IPY_MODEL_75f1f17d99b7463184c22c3a0eda345d",
              "IPY_MODEL_9f88c56cd2f64959a776ff2a39118a1e"
            ],
            "layout": "IPY_MODEL_0274687e1049491cbede93d7e9692f24"
          }
        },
        "d8dc859aed2d40f79f60af961f459bb1": {
          "model_module": "@jupyter-widgets/controls",
          "model_name": "HTMLModel",
          "model_module_version": "1.5.0",
          "state": {
            "_dom_classes": [],
            "_model_module": "@jupyter-widgets/controls",
            "_model_module_version": "1.5.0",
            "_model_name": "HTMLModel",
            "_view_count": null,
            "_view_module": "@jupyter-widgets/controls",
            "_view_module_version": "1.5.0",
            "_view_name": "HTMLView",
            "description": "",
            "description_tooltip": null,
            "layout": "IPY_MODEL_d01f8a5595a448ff8053c44ca9caac6f",
            "placeholder": "​",
            "style": "IPY_MODEL_fe34b238dec44fb6b6a3797ae858f4b4",
            "value": "Downloading pytorch_model.bin: 100%"
          }
        },
        "75f1f17d99b7463184c22c3a0eda345d": {
          "model_module": "@jupyter-widgets/controls",
          "model_name": "FloatProgressModel",
          "model_module_version": "1.5.0",
          "state": {
            "_dom_classes": [],
            "_model_module": "@jupyter-widgets/controls",
            "_model_module_version": "1.5.0",
            "_model_name": "FloatProgressModel",
            "_view_count": null,
            "_view_module": "@jupyter-widgets/controls",
            "_view_module_version": "1.5.0",
            "_view_name": "ProgressView",
            "bar_style": "success",
            "description": "",
            "description_tooltip": null,
            "layout": "IPY_MODEL_31e0846fe1f543cf9b9c9ad50f7ee774",
            "max": 45106985,
            "min": 0,
            "orientation": "horizontal",
            "style": "IPY_MODEL_efee4f754a0744db8f96fe93a0bdcbdc",
            "value": 45106985
          }
        },
        "9f88c56cd2f64959a776ff2a39118a1e": {
          "model_module": "@jupyter-widgets/controls",
          "model_name": "HTMLModel",
          "model_module_version": "1.5.0",
          "state": {
            "_dom_classes": [],
            "_model_module": "@jupyter-widgets/controls",
            "_model_module_version": "1.5.0",
            "_model_name": "HTMLModel",
            "_view_count": null,
            "_view_module": "@jupyter-widgets/controls",
            "_view_module_version": "1.5.0",
            "_view_name": "HTMLView",
            "description": "",
            "description_tooltip": null,
            "layout": "IPY_MODEL_1a522b2fdc0a41ca93c7e8b151ca4f4c",
            "placeholder": "​",
            "style": "IPY_MODEL_67321621c23b496a8e37ca59e476f47e",
            "value": " 45.1M/45.1M [00:00&lt;00:00, 163MB/s]"
          }
        },
        "0274687e1049491cbede93d7e9692f24": {
          "model_module": "@jupyter-widgets/base",
          "model_name": "LayoutModel",
          "model_module_version": "1.2.0",
          "state": {
            "_model_module": "@jupyter-widgets/base",
            "_model_module_version": "1.2.0",
            "_model_name": "LayoutModel",
            "_view_count": null,
            "_view_module": "@jupyter-widgets/base",
            "_view_module_version": "1.2.0",
            "_view_name": "LayoutView",
            "align_content": null,
            "align_items": null,
            "align_self": null,
            "border": null,
            "bottom": null,
            "display": null,
            "flex": null,
            "flex_flow": null,
            "grid_area": null,
            "grid_auto_columns": null,
            "grid_auto_flow": null,
            "grid_auto_rows": null,
            "grid_column": null,
            "grid_gap": null,
            "grid_row": null,
            "grid_template_areas": null,
            "grid_template_columns": null,
            "grid_template_rows": null,
            "height": null,
            "justify_content": null,
            "justify_items": null,
            "left": null,
            "margin": null,
            "max_height": null,
            "max_width": null,
            "min_height": null,
            "min_width": null,
            "object_fit": null,
            "object_position": null,
            "order": null,
            "overflow": null,
            "overflow_x": null,
            "overflow_y": null,
            "padding": null,
            "right": null,
            "top": null,
            "visibility": null,
            "width": null
          }
        },
        "d01f8a5595a448ff8053c44ca9caac6f": {
          "model_module": "@jupyter-widgets/base",
          "model_name": "LayoutModel",
          "model_module_version": "1.2.0",
          "state": {
            "_model_module": "@jupyter-widgets/base",
            "_model_module_version": "1.2.0",
            "_model_name": "LayoutModel",
            "_view_count": null,
            "_view_module": "@jupyter-widgets/base",
            "_view_module_version": "1.2.0",
            "_view_name": "LayoutView",
            "align_content": null,
            "align_items": null,
            "align_self": null,
            "border": null,
            "bottom": null,
            "display": null,
            "flex": null,
            "flex_flow": null,
            "grid_area": null,
            "grid_auto_columns": null,
            "grid_auto_flow": null,
            "grid_auto_rows": null,
            "grid_column": null,
            "grid_gap": null,
            "grid_row": null,
            "grid_template_areas": null,
            "grid_template_columns": null,
            "grid_template_rows": null,
            "height": null,
            "justify_content": null,
            "justify_items": null,
            "left": null,
            "margin": null,
            "max_height": null,
            "max_width": null,
            "min_height": null,
            "min_width": null,
            "object_fit": null,
            "object_position": null,
            "order": null,
            "overflow": null,
            "overflow_x": null,
            "overflow_y": null,
            "padding": null,
            "right": null,
            "top": null,
            "visibility": null,
            "width": null
          }
        },
        "fe34b238dec44fb6b6a3797ae858f4b4": {
          "model_module": "@jupyter-widgets/controls",
          "model_name": "DescriptionStyleModel",
          "model_module_version": "1.5.0",
          "state": {
            "_model_module": "@jupyter-widgets/controls",
            "_model_module_version": "1.5.0",
            "_model_name": "DescriptionStyleModel",
            "_view_count": null,
            "_view_module": "@jupyter-widgets/base",
            "_view_module_version": "1.2.0",
            "_view_name": "StyleView",
            "description_width": ""
          }
        },
        "31e0846fe1f543cf9b9c9ad50f7ee774": {
          "model_module": "@jupyter-widgets/base",
          "model_name": "LayoutModel",
          "model_module_version": "1.2.0",
          "state": {
            "_model_module": "@jupyter-widgets/base",
            "_model_module_version": "1.2.0",
            "_model_name": "LayoutModel",
            "_view_count": null,
            "_view_module": "@jupyter-widgets/base",
            "_view_module_version": "1.2.0",
            "_view_name": "LayoutView",
            "align_content": null,
            "align_items": null,
            "align_self": null,
            "border": null,
            "bottom": null,
            "display": null,
            "flex": null,
            "flex_flow": null,
            "grid_area": null,
            "grid_auto_columns": null,
            "grid_auto_flow": null,
            "grid_auto_rows": null,
            "grid_column": null,
            "grid_gap": null,
            "grid_row": null,
            "grid_template_areas": null,
            "grid_template_columns": null,
            "grid_template_rows": null,
            "height": null,
            "justify_content": null,
            "justify_items": null,
            "left": null,
            "margin": null,
            "max_height": null,
            "max_width": null,
            "min_height": null,
            "min_width": null,
            "object_fit": null,
            "object_position": null,
            "order": null,
            "overflow": null,
            "overflow_x": null,
            "overflow_y": null,
            "padding": null,
            "right": null,
            "top": null,
            "visibility": null,
            "width": null
          }
        },
        "efee4f754a0744db8f96fe93a0bdcbdc": {
          "model_module": "@jupyter-widgets/controls",
          "model_name": "ProgressStyleModel",
          "model_module_version": "1.5.0",
          "state": {
            "_model_module": "@jupyter-widgets/controls",
            "_model_module_version": "1.5.0",
            "_model_name": "ProgressStyleModel",
            "_view_count": null,
            "_view_module": "@jupyter-widgets/base",
            "_view_module_version": "1.2.0",
            "_view_name": "StyleView",
            "bar_color": null,
            "description_width": ""
          }
        },
        "1a522b2fdc0a41ca93c7e8b151ca4f4c": {
          "model_module": "@jupyter-widgets/base",
          "model_name": "LayoutModel",
          "model_module_version": "1.2.0",
          "state": {
            "_model_module": "@jupyter-widgets/base",
            "_model_module_version": "1.2.0",
            "_model_name": "LayoutModel",
            "_view_count": null,
            "_view_module": "@jupyter-widgets/base",
            "_view_module_version": "1.2.0",
            "_view_name": "LayoutView",
            "align_content": null,
            "align_items": null,
            "align_self": null,
            "border": null,
            "bottom": null,
            "display": null,
            "flex": null,
            "flex_flow": null,
            "grid_area": null,
            "grid_auto_columns": null,
            "grid_auto_flow": null,
            "grid_auto_rows": null,
            "grid_column": null,
            "grid_gap": null,
            "grid_row": null,
            "grid_template_areas": null,
            "grid_template_columns": null,
            "grid_template_rows": null,
            "height": null,
            "justify_content": null,
            "justify_items": null,
            "left": null,
            "margin": null,
            "max_height": null,
            "max_width": null,
            "min_height": null,
            "min_width": null,
            "object_fit": null,
            "object_position": null,
            "order": null,
            "overflow": null,
            "overflow_x": null,
            "overflow_y": null,
            "padding": null,
            "right": null,
            "top": null,
            "visibility": null,
            "width": null
          }
        },
        "67321621c23b496a8e37ca59e476f47e": {
          "model_module": "@jupyter-widgets/controls",
          "model_name": "DescriptionStyleModel",
          "model_module_version": "1.5.0",
          "state": {
            "_model_module": "@jupyter-widgets/controls",
            "_model_module_version": "1.5.0",
            "_model_name": "DescriptionStyleModel",
            "_view_count": null,
            "_view_module": "@jupyter-widgets/base",
            "_view_module_version": "1.2.0",
            "_view_name": "StyleView",
            "description_width": ""
          }
        }
      }
    }
  },
  "nbformat": 4,
  "nbformat_minor": 0
}